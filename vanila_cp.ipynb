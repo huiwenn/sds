{
 "cells": [
  {
   "cell_type": "code",
   "execution_count": 1,
   "metadata": {},
   "outputs": [
    {
     "name": "stderr",
     "output_type": "stream",
     "text": [
      "/usr/local/Caskroom/miniforge/base/envs/py3/lib/python3.7/site-packages/gluonts/json.py:46: UserWarning: Using `json`-module for json-handling. Consider installing one of `orjson`, `ujson` to speed up serialization and deserialization.\n",
      "  \"Using `json`-module for json-handling. \"\n"
     ]
    }
   ],
   "source": [
    "\n",
    "import torch\n",
    "import argparse\n",
    "from pathlib import Path\n",
    "import numpy as np\n",
    "from src.model_utils import build_model\n",
    "import src.datasets as datasets\n",
    "import src.evaluation as evaluation\n",
    "from src.torch_utils import torch2numpy\n",
    "from reevaluate import get_test_dataset\n",
    "from tqdm import tqdm\n"
   ]
  },
  {
   "cell_type": "code",
   "execution_count": 2,
   "metadata": {},
   "outputs": [],
   "source": [
    "def get_quantile_forecast(pred, quantile):\n",
    "    # shape is [num_samples, num_series, prediction_length]\n",
    "    # return the quantile of the samples for each series\n",
    "    return np.quantile(pred, quantile, axis=0)\n"
   ]
  },
  {
   "cell_type": "code",
   "execution_count": 26,
   "metadata": {},
   "outputs": [],
   "source": [
    "ckpt_file = \"./Checkpoints/bouncing_ball.pt\"\n",
    "ckpt = torch.load(ckpt_file, map_location=\"cpu\")\n",
    "\n",
    "config = ckpt[\"config\"]\n",
    "model = build_model(config=config)\n",
    "model.load_state_dict(ckpt[\"model\"])\n",
    "\n",
    "test_dataset = get_test_dataset(config)\n",
    "test_loader = torch.utils.data.DataLoader(test_dataset, batch_size=80)\n",
    "extra_args = dict()\n",
    "extra_args = {\"dur_temperature\": 1.0}\n",
    "device = 'cpu'"
   ]
  },
  {
   "cell_type": "code",
   "execution_count": 4,
   "metadata": {},
   "outputs": [],
   "source": [
    "def inference(ckpt_file, dataset_path):\n",
    "\n",
    "    ckpt = torch.load(ckpt_file, map_location=\"cpu\")\n",
    "\n",
    "    config = ckpt[\"config\"]\n",
    "    model = build_model(config=config)\n",
    "    model.load_state_dict(ckpt[\"model\"])\n",
    "\n",
    "    #test_dataset = get_test_dataset(config)\n",
    "    test_dataset = datasets.BouncingBallDataset(path=dataset_path)\n",
    "    test_loader = torch.utils.data.DataLoader(test_dataset, batch_size=80)\n",
    "\n",
    "    #do predictions autoregressively. \n",
    "    context_length = config['context_length']\n",
    "    prediction_length = config['prediction_length']\n",
    "    ground_truth = []\n",
    "    all_mean = []\n",
    "    # calculate coverage and width of prediction intervals\n",
    "    for test_batch, test_label in test_loader:\n",
    "        true = test_batch[:, -prediction_length:]\n",
    "        autoregressive_mean = []\n",
    "        for t in tqdm(range(prediction_length)):\n",
    "            pred = model.predict(test_batch[:,t:t+context_length], num_samples=1, pred_one_step=True)\n",
    "            pred_y = pred['rec_n_forecast'][:,:,-1]\n",
    "            autoregressive_mean.append(pred_y)\n",
    "        ground_truth.append(true)\n",
    "        all_mean.append(np.concatenate(autoregressive_mean, -1).squeeze())\n",
    "\n",
    "    ground_truth = np.concatenate(ground_truth, 0)\n",
    "    all_mean = np.concatenate(all_mean, 0)\n",
    "\n",
    "    return ground_truth, all_mean\n"
   ]
  },
  {
   "cell_type": "code",
   "execution_count": 40,
   "metadata": {},
   "outputs": [
    {
     "name": "stderr",
     "output_type": "stream",
     "text": [
      "  0%|          | 0/50 [00:00<?, ?it/s]/Users/sophiasun/Desktop/2cool4school/phd/switching/REDSDS/src/torch_utils.py:37: UserWarning: __floordiv__ is deprecated, and its behavior will change in a future version of pytorch. It currently rounds toward 0 (like the 'trunc' function NOT 'floor'). This results in incorrect rounding for negative values. To keep the current behavior, use torch.div(a, b, rounding_mode='trunc'), or for actual floor division, use torch.div(a, b, rounding_mode='floor').\n",
      "  indices = indices // dim\n",
      "100%|██████████| 50/50 [00:05<00:00,  8.82it/s]\n"
     ]
    }
   ],
   "source": [
    "ckpt = torch.load(ckpt_file, map_location=\"cpu\")\n",
    "\n",
    "dataset_path = \"./data/bouncing_ball_calibration.npz\"\n",
    "config = ckpt[\"config\"]\n",
    "model = build_model(config=config)\n",
    "model.load_state_dict(ckpt[\"model\"])\n",
    "\n",
    "#test_dataset = get_test_dataset(config)\n",
    "test_dataset = datasets.BouncingBallDataset(path=dataset_path)\n",
    "test_loader = torch.utils.data.DataLoader(test_dataset, batch_size=80)\n",
    "\n",
    "#do predictions autoregressively. \n",
    "context_length = config['context_length']\n",
    "prediction_length = config['prediction_length']\n",
    "ground_truth = []\n",
    "all_mean = []\n",
    "# calculate coverage and width of prediction intervals\n",
    "for test_batch, test_label in test_loader:\n",
    "    true = test_batch[:, -prediction_length:]\n",
    "    autoregressive_mean = []\n",
    "    for t in tqdm(range(prediction_length)):\n",
    "        pred = model.predict(test_batch[:,t:t+context_length], num_samples=1, pred_one_step=True)\n",
    "        pred_y = pred['rec_n_forecast'][:,:,-1]\n",
    "        autoregressive_mean.append(pred_y)\n",
    "    ground_truth.append(true.squeeze())\n",
    "    all_mean.append(np.concatenate(autoregressive_mean, -1).squeeze())\n",
    "    break"
   ]
  },
  {
   "cell_type": "code",
   "execution_count": 41,
   "metadata": {},
   "outputs": [
    {
     "data": {
      "text/plain": [
       "torch.Size([80, 50])"
      ]
     },
     "execution_count": 41,
     "metadata": {},
     "output_type": "execute_result"
    }
   ],
   "source": [
    "ground_truth[0].shape"
   ]
  },
  {
   "cell_type": "code",
   "execution_count": 44,
   "metadata": {},
   "outputs": [
    {
     "data": {
      "text/plain": [
       "(80, 50)"
      ]
     },
     "execution_count": 44,
     "metadata": {},
     "output_type": "execute_result"
    }
   ],
   "source": [
    "all_mean[0].shape\n"
   ]
  },
  {
   "cell_type": "code",
   "execution_count": 39,
   "metadata": {},
   "outputs": [
    {
     "data": {
      "text/plain": [
       "(80, 50)"
      ]
     },
     "execution_count": 39,
     "metadata": {},
     "output_type": "execute_result"
    }
   ],
   "source": [
    "np.concatenate(autoregressive_mean, -1).squeeze().shape"
   ]
  },
  {
   "cell_type": "code",
   "execution_count": 5,
   "metadata": {},
   "outputs": [],
   "source": [
    "ckpt_bb = \"./Checkpoints/bouncing_ball.pt\"\n",
    "ckpt_bbnoisy = \"./Checkpoints/bb_noisy.pt\"\n"
   ]
  },
  {
   "cell_type": "code",
   "execution_count": 6,
   "metadata": {},
   "outputs": [
    {
     "name": "stderr",
     "output_type": "stream",
     "text": [
      "  0%|          | 0/50 [00:00<?, ?it/s]/Users/sophiasun/Desktop/2cool4school/phd/switching/REDSDS/src/torch_utils.py:37: UserWarning: __floordiv__ is deprecated, and its behavior will change in a future version of pytorch. It currently rounds toward 0 (like the 'trunc' function NOT 'floor'). This results in incorrect rounding for negative values. To keep the current behavior, use torch.div(a, b, rounding_mode='trunc'), or for actual floor division, use torch.div(a, b, rounding_mode='floor').\n",
      "  indices = indices // dim\n",
      "100%|██████████| 50/50 [00:05<00:00,  8.92it/s]\n",
      "100%|██████████| 50/50 [00:05<00:00,  8.79it/s]\n",
      "100%|██████████| 50/50 [00:05<00:00,  8.92it/s]\n",
      "100%|██████████| 50/50 [00:05<00:00,  9.00it/s]\n",
      "100%|██████████| 50/50 [00:05<00:00,  8.87it/s]\n",
      "100%|██████████| 50/50 [00:05<00:00,  8.98it/s]\n",
      "100%|██████████| 50/50 [00:05<00:00,  8.62it/s]\n",
      "100%|██████████| 50/50 [00:05<00:00,  8.58it/s]\n",
      "100%|██████████| 50/50 [00:05<00:00,  8.79it/s]\n",
      "100%|██████████| 50/50 [00:05<00:00,  9.20it/s]\n",
      "100%|██████████| 50/50 [00:05<00:00,  9.21it/s]\n",
      "100%|██████████| 50/50 [00:05<00:00,  9.24it/s]\n",
      "100%|██████████| 50/50 [00:05<00:00,  9.08it/s]\n",
      "100%|██████████| 50/50 [00:05<00:00,  9.12it/s]\n",
      "100%|██████████| 50/50 [00:05<00:00,  9.10it/s]\n",
      "100%|██████████| 50/50 [00:05<00:00,  9.24it/s]\n",
      "100%|██████████| 50/50 [00:05<00:00,  9.21it/s]\n",
      "100%|██████████| 50/50 [00:05<00:00,  9.20it/s]\n",
      "100%|██████████| 50/50 [00:05<00:00,  9.24it/s]\n",
      "100%|██████████| 50/50 [00:05<00:00,  9.14it/s]\n",
      "100%|██████████| 50/50 [00:05<00:00,  9.17it/s]\n",
      "100%|██████████| 50/50 [00:05<00:00,  9.20it/s]\n",
      "100%|██████████| 50/50 [00:05<00:00,  9.24it/s]\n",
      "100%|██████████| 50/50 [00:05<00:00,  9.18it/s]\n",
      "100%|██████████| 50/50 [00:05<00:00,  9.15it/s]\n",
      "100%|██████████| 50/50 [00:05<00:00,  9.17it/s]\n",
      "100%|██████████| 50/50 [00:05<00:00,  9.06it/s]\n",
      "100%|██████████| 50/50 [00:05<00:00,  9.15it/s]\n",
      "100%|██████████| 50/50 [00:05<00:00,  9.14it/s]\n",
      "100%|██████████| 50/50 [00:05<00:00,  9.14it/s]\n",
      "100%|██████████| 50/50 [00:05<00:00,  9.11it/s]\n",
      "100%|██████████| 50/50 [00:05<00:00,  9.14it/s]\n",
      "100%|██████████| 50/50 [00:05<00:00,  9.16it/s]\n",
      "100%|██████████| 50/50 [00:05<00:00,  9.13it/s]\n",
      "100%|██████████| 50/50 [00:05<00:00,  9.16it/s]\n",
      "100%|██████████| 50/50 [00:05<00:00,  9.11it/s]\n",
      "100%|██████████| 50/50 [00:05<00:00,  9.08it/s]\n",
      "100%|██████████| 50/50 [00:03<00:00, 12.50it/s]\n",
      "<string>:6: FutureWarning: The input object of type 'Tensor' is an array-like implementing one of the corresponding protocols (`__array__`, `__array_interface__` or `__array_struct__`); but not a sequence (or 0-D). In the future, this object will be coerced as if it was first converted using `np.array(obj)`. To retain the old behaviour, you have to either modify the type 'Tensor', or assign to an empty array created with `np.empty(correct_shape, dtype=object)`.\n",
      "<string>:6: VisibleDeprecationWarning: Creating an ndarray from ragged nested sequences (which is a list-or-tuple of lists-or-tuples-or ndarrays with different lengths or shapes) is deprecated. If you meant to do this, you must specify 'dtype=object' when creating the ndarray.\n"
     ]
    }
   ],
   "source": [
    "ground_truth, all_mean = inference(ckpt_bb, \"./data/bouncing_ball_calibration.npz\")\n",
    "np.savez(\"./results/bouncing_ball_calibration.npz\", ground_truth=ground_truth, mean=all_mean)\n"
   ]
  },
  {
   "cell_type": "code",
   "execution_count": 7,
   "metadata": {},
   "outputs": [
    {
     "name": "stderr",
     "output_type": "stream",
     "text": [
      "100%|██████████| 50/50 [00:05<00:00,  9.13it/s]\n",
      "100%|██████████| 50/50 [00:05<00:00,  9.14it/s]\n",
      "100%|██████████| 50/50 [00:05<00:00,  9.18it/s]\n",
      "100%|██████████| 50/50 [00:05<00:00,  9.13it/s]\n",
      "100%|██████████| 50/50 [00:05<00:00,  9.07it/s]\n",
      "100%|██████████| 50/50 [00:05<00:00,  9.16it/s]\n",
      "100%|██████████| 50/50 [00:05<00:00,  9.22it/s]\n",
      "100%|██████████| 50/50 [00:05<00:00,  9.12it/s]\n",
      "100%|██████████| 50/50 [00:05<00:00,  9.12it/s]\n",
      "100%|██████████| 50/50 [00:05<00:00,  9.15it/s]\n",
      "100%|██████████| 50/50 [00:05<00:00,  9.14it/s]\n",
      "100%|██████████| 50/50 [00:05<00:00,  9.15it/s]\n",
      "100%|██████████| 50/50 [00:05<00:00,  9.13it/s]\n",
      "100%|██████████| 50/50 [00:05<00:00,  9.13it/s]\n",
      "100%|██████████| 50/50 [00:05<00:00,  9.14it/s]\n",
      "100%|██████████| 50/50 [00:05<00:00,  9.12it/s]\n",
      "100%|██████████| 50/50 [00:05<00:00,  9.03it/s]\n",
      "100%|██████████| 50/50 [00:05<00:00,  9.25it/s]\n",
      "100%|██████████| 50/50 [00:05<00:00,  9.30it/s]\n",
      "100%|██████████| 50/50 [00:05<00:00,  9.25it/s]\n",
      "100%|██████████| 50/50 [00:05<00:00,  9.27it/s]\n",
      "100%|██████████| 50/50 [00:05<00:00,  9.06it/s]\n",
      "100%|██████████| 50/50 [00:05<00:00,  9.11it/s]\n",
      "100%|██████████| 50/50 [00:05<00:00,  9.16it/s]\n",
      "100%|██████████| 50/50 [00:05<00:00,  8.99it/s]\n",
      "100%|██████████| 50/50 [00:04<00:00, 10.26it/s]\n",
      "100%|██████████| 50/50 [00:04<00:00, 10.57it/s]\n",
      "100%|██████████| 50/50 [00:04<00:00, 10.58it/s]\n",
      "100%|██████████| 50/50 [00:04<00:00, 10.49it/s]\n",
      "100%|██████████| 50/50 [00:04<00:00, 10.58it/s]\n",
      "100%|██████████| 50/50 [00:04<00:00, 10.59it/s]\n",
      "100%|██████████| 50/50 [00:04<00:00, 10.48it/s]\n",
      "100%|██████████| 50/50 [00:04<00:00, 10.59it/s]\n",
      "100%|██████████| 50/50 [00:04<00:00, 10.50it/s]\n",
      "100%|██████████| 50/50 [00:04<00:00, 10.58it/s]\n",
      "100%|██████████| 50/50 [00:04<00:00, 10.52it/s]\n",
      "100%|██████████| 50/50 [00:04<00:00, 10.40it/s]\n",
      "100%|██████████| 50/50 [00:03<00:00, 13.64it/s]\n"
     ]
    }
   ],
   "source": [
    "ground_truth, all_mean = inference(ckpt_bbnoisy, \"./data/bouncing_ball_noisy_calibration.npz\")\n",
    "np.savez(\"./results/bouncing_ball_noisy_calibration.npz\", ground_truth=ground_truth, mean=all_mean)\n"
   ]
  },
  {
   "cell_type": "code",
   "execution_count": 18,
   "metadata": {},
   "outputs": [],
   "source": [
    "#calculate errors on the calibration dataset\n",
    "\n",
    "preds = np.load(\"./results/bouncing_ball_calibration.npz\", allow_pickle=True)\n",
    "ground_truth = preds[\"ground_truth\"]\n",
    "mean = preds[\"mean\"]\n"
   ]
  },
  {
   "cell_type": "code",
   "execution_count": 19,
   "metadata": {},
   "outputs": [],
   "source": [
    "pred_mean = np.concatenate(mean, 1)"
   ]
  },
  {
   "cell_type": "code",
   "execution_count": 24,
   "metadata": {},
   "outputs": [
    {
     "data": {
      "text/plain": [
       "torch.Size([1, 80, 1])"
      ]
     },
     "execution_count": 24,
     "metadata": {},
     "output_type": "execute_result"
    }
   ],
   "source": [
    "mean[0].shape"
   ]
  },
  {
   "cell_type": "code",
   "execution_count": 22,
   "metadata": {},
   "outputs": [
    {
     "data": {
      "text/plain": [
       "(3000, 50, 1)"
      ]
     },
     "execution_count": 22,
     "metadata": {},
     "output_type": "execute_result"
    }
   ],
   "source": [
    "ground_truth.shape"
   ]
  },
  {
   "cell_type": "code",
   "execution_count": null,
   "metadata": {},
   "outputs": [],
   "source": [
    "\n",
    "mses = (ground_truth - mean) ** 2\n"
   ]
  },
  {
   "cell_type": "code",
   "execution_count": null,
   "metadata": {},
   "outputs": [],
   "source": []
  },
  {
   "cell_type": "code",
   "execution_count": null,
   "metadata": {},
   "outputs": [],
   "source": []
  },
  {
   "cell_type": "markdown",
   "metadata": {},
   "source": [
    "## Forcasting"
   ]
  },
  {
   "cell_type": "code",
   "execution_count": null,
   "metadata": {},
   "outputs": [],
   "source": [
    "\n",
    "pred_segs = []\n",
    "true_segs = []\n",
    "for test_batch, test_label in tqdm(test_loader):\n",
    "    test_batch = test_batch.to(device)\n",
    "    pred = model.predict(test_batch, num_samples=100)\n",
    "    true = test_batch[:, config['context_length']:]\n",
    "    pred_segs.append(torch2numpy(torch.argmax(pred['z_emp_probs'], dim=-1)))\n",
    "    true_segs.append(torch2numpy(test_label[:, config['context_length']:]))\n"
   ]
  },
  {
   "cell_type": "code",
   "execution_count": 106,
   "metadata": {},
   "outputs": [
    {
     "data": {
      "text/plain": [
       "{'nmi_score': 0.10380844559277072,\n",
       " 'ari_score': 0.140397887557092,\n",
       " 'accuracy': 0.68736,\n",
       " 'f1_score': 0.6873676161666078}"
      ]
     },
     "execution_count": 106,
     "metadata": {},
     "output_type": "execute_result"
    }
   ],
   "source": [
    "seg_error = evaluation.evaluate_segmentation(np.concatenate(true_segs, 0), np.concatenate(pred_segs, 0), K=config[\"num_categories\"])\n",
    "\n",
    "seg_error"
   ]
  },
  {
   "cell_type": "code",
   "execution_count": 84,
   "metadata": {},
   "outputs": [
    {
     "data": {
      "text/plain": [
       "0.08520873"
      ]
     },
     "execution_count": 84,
     "metadata": {},
     "output_type": "execute_result"
    }
   ],
   "source": [
    "np.mean(mses)"
   ]
  },
  {
   "cell_type": "code",
   "execution_count": 97,
   "metadata": {},
   "outputs": [
    {
     "data": {
      "text/plain": [
       "tensor([[0, 0, 0,  ..., 1, 1, 1],\n",
       "        [1, 1, 1,  ..., 1, 1, 1],\n",
       "        [1, 1, 1,  ..., 0, 0, 0],\n",
       "        ...,\n",
       "        [0, 0, 0,  ..., 1, 1, 1],\n",
       "        [0, 0, 0,  ..., 1, 1, 1],\n",
       "        [0, 0, 0,  ..., 1, 1, 1]])"
      ]
     },
     "execution_count": 97,
     "metadata": {},
     "output_type": "execute_result"
    }
   ],
   "source": [
    "pred_segs"
   ]
  },
  {
   "cell_type": "markdown",
   "metadata": {},
   "source": [
    "## Calibration and conformal prediction"
   ]
  },
  {
   "cell_type": "code",
   "execution_count": null,
   "metadata": {},
   "outputs": [],
   "source": []
  },
  {
   "cell_type": "code",
   "execution_count": null,
   "metadata": {},
   "outputs": [],
   "source": []
  }
 ],
 "metadata": {
  "kernelspec": {
   "display_name": "py3",
   "language": "python",
   "name": "python3"
  },
  "language_info": {
   "codemirror_mode": {
    "name": "ipython",
    "version": 3
   },
   "file_extension": ".py",
   "mimetype": "text/x-python",
   "name": "python",
   "nbconvert_exporter": "python",
   "pygments_lexer": "ipython3",
   "version": "3.7.11"
  }
 },
 "nbformat": 4,
 "nbformat_minor": 2
}
