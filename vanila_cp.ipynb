{
 "cells": [
  {
   "cell_type": "code",
   "execution_count": 1,
   "metadata": {},
   "outputs": [
    {
     "name": "stderr",
     "output_type": "stream",
     "text": [
      "/usr/local/Caskroom/miniforge/base/envs/py3/lib/python3.7/site-packages/gluonts/json.py:46: UserWarning: Using `json`-module for json-handling. Consider installing one of `orjson`, `ujson` to speed up serialization and deserialization.\n",
      "  \"Using `json`-module for json-handling. \"\n"
     ]
    }
   ],
   "source": [
    "\n",
    "import torch\n",
    "import argparse\n",
    "from pathlib import Path\n",
    "import numpy as np\n",
    "from src.model_utils import build_model\n",
    "import src.datasets as datasets\n",
    "import src.evaluation as evaluation\n",
    "from src.torch_utils import torch2numpy\n",
    "from reevaluate import get_test_dataset\n",
    "from tqdm import tqdm\n"
   ]
  },
  {
   "cell_type": "code",
   "execution_count": 2,
   "metadata": {},
   "outputs": [],
   "source": [
    "def get_quantile_forecast(pred, quantile):\n",
    "    # shape is [num_samples, num_series, prediction_length]\n",
    "    # return the quantile of the samples for each series\n",
    "    return np.quantile(pred, quantile, axis=0)\n"
   ]
  },
  {
   "cell_type": "code",
   "execution_count": 26,
   "metadata": {},
   "outputs": [],
   "source": [
    "ckpt_file = \"./Checkpoints/bouncing_ball.pt\"\n",
    "ckpt = torch.load(ckpt_file, map_location=\"cpu\")\n",
    "\n",
    "config = ckpt[\"config\"]\n",
    "model = build_model(config=config)\n",
    "model.load_state_dict(ckpt[\"model\"])\n",
    "\n",
    "test_dataset = get_test_dataset(config)\n",
    "test_loader = torch.utils.data.DataLoader(test_dataset, batch_size=80)\n",
    "extra_args = dict()\n",
    "extra_args = {\"dur_temperature\": 1.0}\n",
    "device = 'cpu'"
   ]
  },
  {
   "cell_type": "code",
   "execution_count": 47,
   "metadata": {},
   "outputs": [],
   "source": [
    "def inference(ckpt_file, dataset_path):\n",
    "\n",
    "    ckpt = torch.load(ckpt_file, map_location=\"cpu\")\n",
    "\n",
    "    config = ckpt[\"config\"]\n",
    "    model = build_model(config=config)\n",
    "    model.load_state_dict(ckpt[\"model\"])\n",
    "\n",
    "    #test_dataset = get_test_dataset(config)\n",
    "    test_dataset = datasets.BouncingBallDataset(path=dataset_path)\n",
    "    test_loader = torch.utils.data.DataLoader(test_dataset, batch_size=20)\n",
    "\n",
    "    #do predictions autoregressively. \n",
    "    context_length = config['context_length']\n",
    "    prediction_length = config['prediction_length']\n",
    "    ground_truth = []\n",
    "    all_mean = []\n",
    "    # calculate coverage and width of prediction intervals\n",
    "    for test_batch, test_label in tqdm(test_loader):\n",
    "        true = test_batch[:, -prediction_length:]\n",
    "        autoregressive_mean = []\n",
    "        for t in range(prediction_length):\n",
    "            pred = model.predict(test_batch[:,t:t+context_length], num_samples=1, pred_one_step=True)\n",
    "            pred_y = pred['rec_n_forecast'][:,:,-1]\n",
    "            autoregressive_mean.append(pred_y)\n",
    "        ground_truth.append(true)\n",
    "        all_mean.append(np.concatenate(autoregressive_mean, -1).squeeze())\n",
    "\n",
    "    ground_truth = np.concatenate(ground_truth, 0)\n",
    "    all_mean = np.concatenate(all_mean, 0)\n",
    "\n",
    "    return ground_truth, all_mean\n"
   ]
  },
  {
   "cell_type": "code",
   "execution_count": 48,
   "metadata": {},
   "outputs": [],
   "source": [
    "ckpt_bb = \"./Checkpoints/bouncing_ball.pt\"\n",
    "ckpt_bbnoisy = \"./Checkpoints/bb_noisy.pt\"\n"
   ]
  },
  {
   "cell_type": "code",
   "execution_count": 49,
   "metadata": {},
   "outputs": [
    {
     "name": "stderr",
     "output_type": "stream",
     "text": [
      "  0%|          | 0/150 [00:00<?, ?it/s]/Users/sophiasun/Desktop/2cool4school/phd/switching/REDSDS/src/torch_utils.py:37: UserWarning: __floordiv__ is deprecated, and its behavior will change in a future version of pytorch. It currently rounds toward 0 (like the 'trunc' function NOT 'floor'). This results in incorrect rounding for negative values. To keep the current behavior, use torch.div(a, b, rounding_mode='trunc'), or for actual floor division, use torch.div(a, b, rounding_mode='floor').\n",
      "  indices = indices // dim\n",
      "100%|██████████| 150/150 [08:30<00:00,  3.40s/it]\n"
     ]
    }
   ],
   "source": [
    "ground_truth, all_mean = inference(ckpt_bb, \"./data/bouncing_ball_calibration.npz\")\n",
    "np.savez(\"./results/bouncing_ball_calibration.npz\", ground_truth=ground_truth, mean=all_mean)\n"
   ]
  },
  {
   "cell_type": "code",
   "execution_count": 72,
   "metadata": {},
   "outputs": [
    {
     "name": "stderr",
     "output_type": "stream",
     "text": [
      "  0%|          | 0/150 [00:00<?, ?it/s]/Users/sophiasun/Desktop/2cool4school/phd/switching/REDSDS/src/torch_utils.py:37: UserWarning: __floordiv__ is deprecated, and its behavior will change in a future version of pytorch. It currently rounds toward 0 (like the 'trunc' function NOT 'floor'). This results in incorrect rounding for negative values. To keep the current behavior, use torch.div(a, b, rounding_mode='trunc'), or for actual floor division, use torch.div(a, b, rounding_mode='floor').\n",
      "  indices = indices // dim\n",
      "100%|██████████| 150/150 [08:17<00:00,  3.32s/it]\n"
     ]
    }
   ],
   "source": [
    "ground_truth, all_mean = inference(ckpt_bbnoisy, \"./data/bouncing_ball_noisy_calibration.npz\")\n",
    "np.savez(\"./results/bouncing_ball_noisy_calibration.npz\", ground_truth=ground_truth, mean=all_mean)\n"
   ]
  },
  {
   "cell_type": "code",
   "execution_count": 50,
   "metadata": {},
   "outputs": [],
   "source": [
    "#calculate errors on the calibration dataset\n",
    "\n",
    "preds = np.load(\"./results/bouncing_ball_calibration.npz\", allow_pickle=True)\n",
    "ground_truth = preds[\"ground_truth\"]\n",
    "mean = preds[\"mean\"]\n"
   ]
  },
  {
   "cell_type": "code",
   "execution_count": 52,
   "metadata": {},
   "outputs": [
    {
     "data": {
      "text/plain": [
       "(3000, 50)"
      ]
     },
     "execution_count": 52,
     "metadata": {},
     "output_type": "execute_result"
    }
   ],
   "source": [
    "mses = (ground_truth.squeeze() - mean) ** 2\n",
    "mses.shape"
   ]
  },
  {
   "cell_type": "code",
   "execution_count": 56,
   "metadata": {},
   "outputs": [],
   "source": [
    "# vanilla cp\n",
    "nonconformity = mses.flatten()\n",
    "\n",
    "# get quantiles of nonconformity scores\n",
    "alpha = 0.1\n",
    "thresh = np.quantile(nonconformity, 1-alpha)\n"
   ]
  },
  {
   "cell_type": "code",
   "execution_count": 57,
   "metadata": {},
   "outputs": [
    {
     "name": "stderr",
     "output_type": "stream",
     "text": [
      "  0%|          | 0/50 [00:00<?, ?it/s]/Users/sophiasun/Desktop/2cool4school/phd/switching/REDSDS/src/torch_utils.py:37: UserWarning: __floordiv__ is deprecated, and its behavior will change in a future version of pytorch. It currently rounds toward 0 (like the 'trunc' function NOT 'floor'). This results in incorrect rounding for negative values. To keep the current behavior, use torch.div(a, b, rounding_mode='trunc'), or for actual floor division, use torch.div(a, b, rounding_mode='floor').\n",
      "  indices = indices // dim\n",
      "100%|██████████| 50/50 [02:39<00:00,  3.18s/it]\n"
     ]
    }
   ],
   "source": [
    "# inference on test set\n",
    "ground_truth, all_mean = inference(ckpt_bb, \"./data/bouncing_ball_test.npz\")\n",
    "np.savez(\"./results/bouncing_ball_test.npz\", ground_truth=ground_truth, mean=all_mean)\n"
   ]
  },
  {
   "cell_type": "code",
   "execution_count": 66,
   "metadata": {},
   "outputs": [],
   "source": [
    "test_mses = (ground_truth.squeeze() - all_mean) ** 2\n",
    "test_nonconformity = test_mses.flatten()\n",
    "coverage = np.mean(test_nonconformity < thresh)\n"
   ]
  },
  {
   "cell_type": "code",
   "execution_count": 67,
   "metadata": {},
   "outputs": [
    {
     "data": {
      "text/plain": [
       "(0.90404, 0.23606456667184836)"
      ]
     },
     "execution_count": 67,
     "metadata": {},
     "output_type": "execute_result"
    }
   ],
   "source": [
    "coverage, thresh"
   ]
  },
  {
   "cell_type": "markdown",
   "metadata": {},
   "source": [
    "## Noisey"
   ]
  },
  {
   "cell_type": "code",
   "execution_count": 73,
   "metadata": {},
   "outputs": [],
   "source": [
    "#calculate errors on the calibration dataset\n",
    "\n",
    "preds = np.load(\"./results/bouncing_ball_noisy_calibration.npz\", allow_pickle=True)\n",
    "ground_truth = preds[\"ground_truth\"]\n",
    "mean = preds[\"mean\"]\n"
   ]
  },
  {
   "cell_type": "code",
   "execution_count": 74,
   "metadata": {},
   "outputs": [
    {
     "data": {
      "text/plain": [
       "(50,)"
      ]
     },
     "execution_count": 74,
     "metadata": {},
     "output_type": "execute_result"
    }
   ],
   "source": [
    "mean[0].shape"
   ]
  },
  {
   "cell_type": "code",
   "execution_count": 75,
   "metadata": {},
   "outputs": [
    {
     "data": {
      "text/plain": [
       "(3000, 50)"
      ]
     },
     "execution_count": 75,
     "metadata": {},
     "output_type": "execute_result"
    }
   ],
   "source": [
    "mses = (ground_truth.squeeze() - mean) ** 2\n",
    "mses.shape"
   ]
  },
  {
   "cell_type": "code",
   "execution_count": 76,
   "metadata": {},
   "outputs": [],
   "source": [
    "# vanilla cp\n",
    "nonconformity = mses.flatten()\n",
    "\n",
    "# get quantiles of nonconformity scores\n",
    "alpha = 0.1\n",
    "thresh = np.quantile(nonconformity, 1-alpha)\n"
   ]
  },
  {
   "cell_type": "code",
   "execution_count": 77,
   "metadata": {},
   "outputs": [
    {
     "name": "stderr",
     "output_type": "stream",
     "text": [
      "  0%|          | 0/50 [00:00<?, ?it/s]"
     ]
    },
    {
     "name": "stderr",
     "output_type": "stream",
     "text": [
      "100%|██████████| 50/50 [02:40<00:00,  3.20s/it]\n"
     ]
    }
   ],
   "source": [
    "# inference on test set\n",
    "ground_truth, all_mean = inference(ckpt_bbnoisy, \"./data/bouncing_ball_noisy_test.npz\")\n",
    "np.savez(\"./results/bouncing_ball_noisy_test.npz\", ground_truth=ground_truth, mean=all_mean)\n"
   ]
  },
  {
   "cell_type": "code",
   "execution_count": 78,
   "metadata": {},
   "outputs": [],
   "source": [
    "test_mses = (ground_truth.squeeze() - all_mean) ** 2\n",
    "test_nonconformity = test_mses.flatten()\n",
    "coverage = np.mean(test_nonconformity < thresh)\n"
   ]
  },
  {
   "cell_type": "code",
   "execution_count": 79,
   "metadata": {},
   "outputs": [
    {
     "data": {
      "text/plain": [
       "(0.90096, 0.18580201715230943)"
      ]
     },
     "execution_count": 79,
     "metadata": {},
     "output_type": "execute_result"
    }
   ],
   "source": [
    "coverage, thresh"
   ]
  },
  {
   "cell_type": "code",
   "execution_count": null,
   "metadata": {},
   "outputs": [],
   "source": []
  },
  {
   "cell_type": "markdown",
   "metadata": {},
   "source": [
    "## Forcasting"
   ]
  },
  {
   "cell_type": "code",
   "execution_count": null,
   "metadata": {},
   "outputs": [],
   "source": [
    "\n",
    "pred_segs = []\n",
    "true_segs = []\n",
    "for test_batch, test_label in tqdm(test_loader):\n",
    "    test_batch = test_batch.to(device)\n",
    "    pred = model.predict(test_batch, num_samples=100)\n",
    "    true = test_batch[:, config['context_length']:]\n",
    "    pred_segs.append(torch2numpy(torch.argmax(pred['z_emp_probs'], dim=-1)))\n",
    "    true_segs.append(torch2numpy(test_label[:, config['context_length']:]))\n"
   ]
  },
  {
   "cell_type": "code",
   "execution_count": 106,
   "metadata": {},
   "outputs": [
    {
     "data": {
      "text/plain": [
       "{'nmi_score': 0.10380844559277072,\n",
       " 'ari_score': 0.140397887557092,\n",
       " 'accuracy': 0.68736,\n",
       " 'f1_score': 0.6873676161666078}"
      ]
     },
     "execution_count": 106,
     "metadata": {},
     "output_type": "execute_result"
    }
   ],
   "source": [
    "seg_error = evaluation.evaluate_segmentation(np.concatenate(true_segs, 0), np.concatenate(pred_segs, 0), K=config[\"num_categories\"])\n",
    "\n",
    "seg_error"
   ]
  },
  {
   "cell_type": "code",
   "execution_count": 84,
   "metadata": {},
   "outputs": [
    {
     "data": {
      "text/plain": [
       "0.08520873"
      ]
     },
     "execution_count": 84,
     "metadata": {},
     "output_type": "execute_result"
    }
   ],
   "source": [
    "np.mean(mses)"
   ]
  },
  {
   "cell_type": "code",
   "execution_count": 97,
   "metadata": {},
   "outputs": [
    {
     "data": {
      "text/plain": [
       "tensor([[0, 0, 0,  ..., 1, 1, 1],\n",
       "        [1, 1, 1,  ..., 1, 1, 1],\n",
       "        [1, 1, 1,  ..., 0, 0, 0],\n",
       "        ...,\n",
       "        [0, 0, 0,  ..., 1, 1, 1],\n",
       "        [0, 0, 0,  ..., 1, 1, 1],\n",
       "        [0, 0, 0,  ..., 1, 1, 1]])"
      ]
     },
     "execution_count": 97,
     "metadata": {},
     "output_type": "execute_result"
    }
   ],
   "source": [
    "pred_segs"
   ]
  },
  {
   "cell_type": "markdown",
   "metadata": {},
   "source": [
    "## Calibration and conformal prediction"
   ]
  },
  {
   "cell_type": "code",
   "execution_count": null,
   "metadata": {},
   "outputs": [],
   "source": []
  },
  {
   "cell_type": "code",
   "execution_count": null,
   "metadata": {},
   "outputs": [],
   "source": []
  }
 ],
 "metadata": {
  "kernelspec": {
   "display_name": "py3",
   "language": "python",
   "name": "python3"
  },
  "language_info": {
   "codemirror_mode": {
    "name": "ipython",
    "version": 3
   },
   "file_extension": ".py",
   "mimetype": "text/x-python",
   "name": "python",
   "nbconvert_exporter": "python",
   "pygments_lexer": "ipython3",
   "version": "3.7.11"
  }
 },
 "nbformat": 4,
 "nbformat_minor": 2
}
