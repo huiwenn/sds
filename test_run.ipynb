{
 "cells": [
  {
   "cell_type": "code",
   "execution_count": 1,
   "metadata": {},
   "outputs": [
    {
     "name": "stderr",
     "output_type": "stream",
     "text": [
      "/usr/local/Caskroom/miniforge/base/envs/py3/lib/python3.7/site-packages/gluonts/json.py:46: UserWarning: Using `json`-module for json-handling. Consider installing one of `orjson`, `ujson` to speed up serialization and deserialization.\n",
      "  \"Using `json`-module for json-handling. \"\n"
     ]
    }
   ],
   "source": [
    "\n",
    "import torch\n",
    "import argparse\n",
    "from pathlib import Path\n",
    "import numpy as np\n",
    "from src.model_utils import build_model\n",
    "import src.datasets as datasets\n",
    "import src.evaluation as evaluation\n",
    "from src.torch_utils import torch2numpy\n",
    "from reevaluate import get_test_dataset\n",
    "from tqdm import tqdm\n"
   ]
  },
  {
   "cell_type": "code",
   "execution_count": 11,
   "metadata": {},
   "outputs": [],
   "source": [
    "def get_quantile_forecast(pred, quantile):\n",
    "    # shape is [num_samples, num_series, prediction_length]\n",
    "    # return the quantile of the samples for each series\n",
    "    return np.quantile(pred, quantile, axis=0)\n"
   ]
  },
  {
   "cell_type": "code",
   "execution_count": 2,
   "metadata": {},
   "outputs": [],
   "source": [
    "ckpt_file = \"./Checkpoints/bouncing_ball.pt\"\n",
    "ckpt = torch.load(ckpt_file, map_location=\"cpu\")\n",
    "\n",
    "config = ckpt[\"config\"]\n",
    "model = build_model(config=config)\n",
    "model.load_state_dict(ckpt[\"model\"])\n",
    "\n",
    "test_dataset = get_test_dataset(config)\n",
    "test_loader = torch.utils.data.DataLoader(test_dataset, batch_size=80)\n",
    "extra_args = dict()\n",
    "extra_args = {\"dur_temperature\": 1.0}\n",
    "device = 'cpu'"
   ]
  },
  {
   "cell_type": "code",
   "execution_count": 12,
   "metadata": {},
   "outputs": [],
   "source": [
    "def autoregressive_cov(ckpt_file):\n",
    "\n",
    "    ckpt = torch.load(ckpt_file, map_location=\"cpu\")\n",
    "\n",
    "    config = ckpt[\"config\"]\n",
    "    model = build_model(config=config)\n",
    "    model.load_state_dict(ckpt[\"model\"])\n",
    "\n",
    "    test_dataset = get_test_dataset(config)\n",
    "    test_loader = torch.utils.data.DataLoader(test_dataset, batch_size=80)\n",
    "\n",
    "    #do predictions autoregressively. \n",
    "    context_length = config['context_length']\n",
    "    prediction_length = config['prediction_length']\n",
    "    ground_truth = []\n",
    "    all_lb = []\n",
    "    all_ub = []\n",
    "    all_mean = []\n",
    "    # calculate coverage and width of prediction intervals\n",
    "    for test_batch, test_label in test_loader:\n",
    "        true = test_batch[:, -prediction_length:]\n",
    "        autoregressive_lb = []\n",
    "        autoregressive_ub = []\n",
    "        autoregressive_mean = []\n",
    "        for t in tqdm(range(prediction_length)):\n",
    "            pred = model.predict(test_batch[:,t:t+context_length], num_samples=100, pred_one_step=True)\n",
    "            pred_y = pred['rec_n_forecast'][:,:,-1]\n",
    "\n",
    "            mean = get_quantile_forecast(pred_y, 0.5)\n",
    "            lb = get_quantile_forecast(pred_y, 0.1)\n",
    "            ub = get_quantile_forecast(pred_y, 0.9) \n",
    "\n",
    "            autoregressive_lb.append(lb)\n",
    "            autoregressive_ub.append(ub)\n",
    "            autoregressive_mean.append(mean)\n",
    "        ground_truth.append(true)\n",
    "        all_lb.append(autoregressive_lb)\n",
    "        all_ub.append(autoregressive_ub)\n",
    "        all_mean.append(autoregressive_mean)\n",
    "\n",
    "    ground_truth = np.concatenate(ground_truth, 0)\n",
    "    all_lb = np.concatenate(all_lb, 0)\n",
    "    all_ub = np.concatenate(all_ub, 0)\n",
    "    all_mean = np.concatenate(all_mean, 0)\n",
    "\n",
    "    # swap first two axes of ub and lb\n",
    "    all_lb = np.swapaxes(all_lb, 0, 1)\n",
    "    all_ub = np.swapaxes(all_ub, 0, 1)\n",
    "    all_mean = np.swapaxes(all_mean, 0, 1)\n",
    "    # coverage\n",
    "    coverage = np.mean(np.logical_and(ground_truth >= all_lb, ground_truth <= all_ub))\n",
    "    # width\n",
    "    width = np.mean(all_ub - all_lb)\n",
    "\n",
    "    return coverage, width, (ground_truth, all_mean, all_lb, all_ub)"
   ]
  },
  {
   "cell_type": "code",
   "execution_count": null,
   "metadata": {},
   "outputs": [],
   "source": [
    "ckpt_bb = \"./Checkpoints/bouncing_ball.pt\"\n",
    "ckpt_bbnoisy = \"./Checkpoints/bb_noisy.pt\"\n",
    "\n",
    "coverage, width, (ground_truth, all_mean, all_lb, all_ub) = autoregressive_cov(ckpt_bb)\n",
    "\n",
    "#save ground truth, all_mean, all_lb, all_ub\n",
    "np.savez(\"./results/autoregressive_cov.npz\", ground_truth=ground_truth, mean=all_mean, lb=all_lb, ub=all_ub)\n"
   ]
  },
  {
   "cell_type": "code",
   "execution_count": 8,
   "metadata": {},
   "outputs": [
    {
     "data": {
      "text/plain": [
       "50"
      ]
     },
     "execution_count": 8,
     "metadata": {},
     "output_type": "execute_result"
    }
   ],
   "source": [
    "config['prediction_length']"
   ]
  },
  {
   "cell_type": "code",
   "execution_count": 98,
   "metadata": {},
   "outputs": [],
   "source": [
    "\n",
    "true_segs = []\n",
    "pred_segs = []\n",
    "true_tss = []\n",
    "recons_tss = []\n",
    "\n",
    "for test_batch, test_label in test_loader:\n",
    "    test_batch = test_batch.to(device)\n",
    "    test_result = model(\n",
    "        test_batch,\n",
    "        switch_temperature=1.0,\n",
    "        num_samples=1,\n",
    "        deterministic_inference=True,\n",
    "        **extra_args,\n",
    "    )\n",
    "\n",
    "    pred_seg = torch2numpy(torch.argmax(test_result[\"log_gamma\"][0], dim=-1))\n",
    "    true_seg = torch2numpy(test_label[:, : config[\"context_length\"]])\n",
    "    true_ts = torch2numpy(test_result[\"inputs\"])\n",
    "    recons_ts = torch2numpy(test_result[\"reconstructions\"])\n",
    "    true_tss.append(true_ts)\n",
    "    recons_tss.append(recons_ts)\n",
    "    true_segs.append(true_seg)\n",
    "    pred_segs.append(pred_seg)\n",
    "    break\n",
    "\n",
    "    "
   ]
  },
  {
   "cell_type": "code",
   "execution_count": 99,
   "metadata": {},
   "outputs": [
    {
     "data": {
      "text/plain": [
       "array([[0, 0, 0, ..., 0, 0, 0],\n",
       "       [1, 1, 1, ..., 0, 1, 1],\n",
       "       [1, 1, 1, ..., 1, 1, 1],\n",
       "       ...,\n",
       "       [0, 0, 0, ..., 0, 0, 0],\n",
       "       [0, 0, 0, ..., 0, 0, 0],\n",
       "       [0, 0, 0, ..., 0, 0, 0]])"
      ]
     },
     "execution_count": 99,
     "metadata": {},
     "output_type": "execute_result"
    }
   ],
   "source": [
    "pred_seg"
   ]
  },
  {
   "cell_type": "code",
   "execution_count": 54,
   "metadata": {},
   "outputs": [
    {
     "data": {
      "text/plain": [
       "Counter({1.0: 4000, 0.0: 4000})"
      ]
     },
     "execution_count": 54,
     "metadata": {},
     "output_type": "execute_result"
    }
   ],
   "source": [
    "from collections import Counter\n",
    "\n",
    "Counter(pred['z_emp_probs'].view(-1).numpy())"
   ]
  },
  {
   "cell_type": "code",
   "execution_count": 33,
   "metadata": {},
   "outputs": [
    {
     "data": {
      "text/plain": [
       "dict_keys(['elbov2', 'iwlbov2', 'inputs', 'reconstructions', 'x_samples', 'log_gamma', 'crossent_regularizer'])"
      ]
     },
     "execution_count": 33,
     "metadata": {},
     "output_type": "execute_result"
    }
   ],
   "source": [
    "test_result.keys()"
   ]
  },
  {
   "cell_type": "code",
   "execution_count": 25,
   "metadata": {},
   "outputs": [],
   "source": [
    "\n",
    "true_tss = np.concatenate(true_tss, 0)\n",
    "recons_tss = np.concatenate(recons_tss, 0)\n",
    "true_segs = np.concatenate(true_segs, 0)\n",
    "pred_segs = np.concatenate(pred_segs, 0)\n",
    "seg_metrics = evaluation.evaluate_segmentation(\n",
    "    true_segs, pred_segs, K=config[\"num_categories\"]\n",
    ")\n",
    "#print(config[\"dataset\"], seg_metrics)\n"
   ]
  },
  {
   "cell_type": "code",
   "execution_count": 26,
   "metadata": {},
   "outputs": [
    {
     "data": {
      "text/plain": [
       "{'nmi_score': 0.765731146550337,\n",
       " 'ari_score': 0.8514450465440498,\n",
       " 'accuracy': 0.961375,\n",
       " 'f1_score': 0.9614082389518032}"
      ]
     },
     "execution_count": 26,
     "metadata": {},
     "output_type": "execute_result"
    }
   ],
   "source": [
    "seg_metrics"
   ]
  },
  {
   "cell_type": "code",
   "execution_count": 30,
   "metadata": {},
   "outputs": [
    {
     "data": {
      "text/plain": [
       "{'nmi_score': 1.0, 'ari_score': 1.0, 'accuracy': 1.0, 'f1_score': 1.0}"
      ]
     },
     "execution_count": 30,
     "metadata": {},
     "output_type": "execute_result"
    }
   ],
   "source": [
    "evaluation.evaluate_segmentation(\n",
    "    true_segs[0], pred_segs[0], K=config[\"num_categories\"]\n",
    ")"
   ]
  },
  {
   "cell_type": "markdown",
   "metadata": {},
   "source": [
    "## Forcasting"
   ]
  },
  {
   "cell_type": "code",
   "execution_count": 104,
   "metadata": {},
   "outputs": [
    {
     "name": "stderr",
     "output_type": "stream",
     "text": [
      "/Users/sophiasun/Desktop/2cool4school/phd/switching/REDSDS/src/torch_utils.py:37: UserWarning: __floordiv__ is deprecated, and its behavior will change in a future version of pytorch. It currently rounds toward 0 (like the 'trunc' function NOT 'floor'). This results in incorrect rounding for negative values. To keep the current behavior, use torch.div(a, b, rounding_mode='trunc'), or for actual floor division, use torch.div(a, b, rounding_mode='floor').\n",
      "  indices = indices // dim\n"
     ]
    }
   ],
   "source": [
    "mses = []\n",
    "seg_errors = []\n",
    "true_segs = []\n",
    "pred_segs = []\n",
    "for test_batch, test_label in test_loader:\n",
    "    test_batch = test_batch.to(device)\n",
    "\n",
    "    pred = model.predict(test_batch)\n",
    "    true = test_batch[:, config['context_length']:]\n",
    "    pred_y = pred['rec_n_forecast'][:,:,config['context_length']:]\n",
    "\n",
    "    pred_z = pred['z_emp_probs']\n",
    "    mse = ((true[...,:1,:] - pred_y[...,:1,:]) ** 2).mean()\n",
    "    #print(mse)\n",
    "    mses.append(mse)\n",
    "    # argmax from pred_z and true_segs\n",
    "    pred_segs.append(torch2numpy(torch.argmax(pred_z, dim=-1)))\n",
    "    true_segs.append(torch2numpy(test_label[:, config['context_length']:]))\n"
   ]
  },
  {
   "cell_type": "code",
   "execution_count": 6,
   "metadata": {},
   "outputs": [],
   "source": [
    "\n"
   ]
  },
  {
   "cell_type": "code",
   "execution_count": 127,
   "metadata": {},
   "outputs": [
    {
     "name": "stderr",
     "output_type": "stream",
     "text": [
      "/Users/sophiasun/Desktop/2cool4school/phd/switching/REDSDS/src/torch_utils.py:37: UserWarning: __floordiv__ is deprecated, and its behavior will change in a future version of pytorch. It currently rounds toward 0 (like the 'trunc' function NOT 'floor'). This results in incorrect rounding for negative values. To keep the current behavior, use torch.div(a, b, rounding_mode='trunc'), or for actual floor division, use torch.div(a, b, rounding_mode='floor').\n",
      "  indices = indices // dim\n"
     ]
    }
   ],
   "source": [
    "\n",
    "\n",
    "ground_truth = []\n",
    "all_lb = []\n",
    "all_ub = []\n",
    "# calculate coverage and width of prediction intervals\n",
    "for test_batch, test_label in tqdm(test_loader):\n",
    "    pred = model.predict(test_batch, num_samples=100)\n",
    "    true = test_batch[:, config['context_length']:]\n",
    "    ground_truth.append(true)\n",
    "    pred_y = pred['rec_n_forecast'][:,:,config['context_length']:]\n",
    "\n",
    "    lb = get_quantile_forecast(pred_y, 0.1)\n",
    "    ub = get_quantile_forecast(pred_y, 0.9) \n",
    "    all_lb.append(lb)\n",
    "    all_ub.append(ub)"
   ]
  },
  {
   "cell_type": "code",
   "execution_count": 129,
   "metadata": {},
   "outputs": [],
   "source": [
    "ground_truth = np.concatenate(ground_truth, 0)\n",
    "all_lb = np.concatenate(all_lb, 0)\n",
    "all_ub = np.concatenate(all_ub, 0)"
   ]
  },
  {
   "cell_type": "code",
   "execution_count": 130,
   "metadata": {},
   "outputs": [
    {
     "data": {
      "text/plain": [
       "(1000, 50, 1)"
      ]
     },
     "execution_count": 130,
     "metadata": {},
     "output_type": "execute_result"
    }
   ],
   "source": [
    "ground_truth.shape\n",
    "# co"
   ]
  },
  {
   "cell_type": "code",
   "execution_count": 131,
   "metadata": {},
   "outputs": [
    {
     "data": {
      "text/plain": [
       "(0.36394, 2.3331621233702324)"
      ]
     },
     "execution_count": 131,
     "metadata": {},
     "output_type": "execute_result"
    }
   ],
   "source": [
    "# this is numbers for everything together\n",
    "# coverage\n",
    "coverage = np.mean(np.logical_and(ground_truth >= all_lb, ground_truth <= all_ub))\n",
    "# width\n",
    "width = np.mean(all_ub - all_lb)\n",
    "\n",
    "coverage, width"
   ]
  },
  {
   "cell_type": "code",
   "execution_count": 9,
   "metadata": {},
   "outputs": [
    {
     "data": {
      "text/plain": [
       "dict_keys(['experiment', 'model', 'dataset', 'seg_labels', 'd_max', 'batch_size', 'context_length', 'prediction_length', 'freq', 'x_dim', 'obs_dim', 'log_dir', 'log_steps', 'model_dir', 'save_steps', 'num_categories', 'num_steps', 'num_samples', 'objective', 'flat_learning_rate', 'warmup_start_lr', 'learning_rate', 'grad_clip_norm', 'weight_decay', 'warmup_steps_lr', 'initial_switch', 'discrete_transition', 'continuous_transition', 'emission', 'inference', 'initial_state', 'control', 'transform_target', 'transform_only_scale', 'use_jacobian', 'forecast', 'switch_t_annealing', 'switch_t_init', 'switch_t_min', 'switch_t_annealing_rate', 'switch_t_annealing_steps', 'switch_t_annealing_kickin_steps', 'dur_t_annealing', 'dur_t_init', 'dur_t_min', 'dur_t_annealing_rate', 'dur_t_annealing_steps', 'dur_t_annealing_kickin_steps', 'cont_ent_anneal', 'xent_annealing', 'xent_init', 'xent_rate', 'xent_steps', 'xent_kickin_steps'])"
      ]
     },
     "execution_count": 9,
     "metadata": {},
     "output_type": "execute_result"
    }
   ],
   "source": [
    "config.keys()"
   ]
  },
  {
   "cell_type": "code",
   "execution_count": 9,
   "metadata": {},
   "outputs": [
    {
     "name": "stderr",
     "output_type": "stream",
     "text": [
      "100%|██████████| 50/50 [01:55<00:00,  2.31s/it]\n"
     ]
    }
   ],
   "source": []
  },
  {
   "cell_type": "code",
   "execution_count": 10,
   "metadata": {},
   "outputs": [
    {
     "data": {
      "text/plain": [
       "(0.77975, 0.5269619214291451)"
      ]
     },
     "execution_count": 10,
     "metadata": {},
     "output_type": "execute_result"
    }
   ],
   "source": []
  },
  {
   "cell_type": "code",
   "execution_count": null,
   "metadata": {},
   "outputs": [],
   "source": []
  },
  {
   "cell_type": "code",
   "execution_count": null,
   "metadata": {},
   "outputs": [],
   "source": [
    "\n",
    "pred_segs = []\n",
    "true_segs = []\n",
    "for test_batch, test_label in tqdm(test_loader):\n",
    "    test_batch = test_batch.to(device)\n",
    "    pred = model.predict(test_batch, num_samples=100)\n",
    "    true = test_batch[:, config['context_length']:]\n",
    "    pred_segs.append(torch2numpy(torch.argmax(pred['z_emp_probs'], dim=-1)))\n",
    "    true_segs.append(torch2numpy(test_label[:, config['context_length']:]))\n"
   ]
  },
  {
   "cell_type": "code",
   "execution_count": 106,
   "metadata": {},
   "outputs": [
    {
     "data": {
      "text/plain": [
       "{'nmi_score': 0.10380844559277072,\n",
       " 'ari_score': 0.140397887557092,\n",
       " 'accuracy': 0.68736,\n",
       " 'f1_score': 0.6873676161666078}"
      ]
     },
     "execution_count": 106,
     "metadata": {},
     "output_type": "execute_result"
    }
   ],
   "source": [
    "seg_error = evaluation.evaluate_segmentation(np.concatenate(true_segs, 0), np.concatenate(pred_segs, 0), K=config[\"num_categories\"])\n",
    "\n",
    "seg_error"
   ]
  },
  {
   "cell_type": "code",
   "execution_count": 84,
   "metadata": {},
   "outputs": [
    {
     "data": {
      "text/plain": [
       "0.08520873"
      ]
     },
     "execution_count": 84,
     "metadata": {},
     "output_type": "execute_result"
    }
   ],
   "source": [
    "np.mean(mses)"
   ]
  },
  {
   "cell_type": "code",
   "execution_count": 97,
   "metadata": {},
   "outputs": [
    {
     "data": {
      "text/plain": [
       "tensor([[0, 0, 0,  ..., 1, 1, 1],\n",
       "        [1, 1, 1,  ..., 1, 1, 1],\n",
       "        [1, 1, 1,  ..., 0, 0, 0],\n",
       "        ...,\n",
       "        [0, 0, 0,  ..., 1, 1, 1],\n",
       "        [0, 0, 0,  ..., 1, 1, 1],\n",
       "        [0, 0, 0,  ..., 1, 1, 1]])"
      ]
     },
     "execution_count": 97,
     "metadata": {},
     "output_type": "execute_result"
    }
   ],
   "source": [
    "pred_segs"
   ]
  },
  {
   "cell_type": "markdown",
   "metadata": {},
   "source": [
    "## Calibration and conformal prediction"
   ]
  },
  {
   "cell_type": "code",
   "execution_count": null,
   "metadata": {},
   "outputs": [],
   "source": []
  },
  {
   "cell_type": "code",
   "execution_count": null,
   "metadata": {},
   "outputs": [],
   "source": []
  }
 ],
 "metadata": {
  "kernelspec": {
   "display_name": "py3",
   "language": "python",
   "name": "python3"
  },
  "language_info": {
   "codemirror_mode": {
    "name": "ipython",
    "version": 3
   },
   "file_extension": ".py",
   "mimetype": "text/x-python",
   "name": "python",
   "nbconvert_exporter": "python",
   "pygments_lexer": "ipython3",
   "version": "3.7.11"
  }
 },
 "nbformat": 4,
 "nbformat_minor": 2
}
