{
 "cells": [
  {
   "cell_type": "code",
   "execution_count": 6,
   "metadata": {},
   "outputs": [
    {
     "name": "stdout",
     "output_type": "stream",
     "text": [
      "The autoreload extension is already loaded. To reload it, use:\n",
      "  %reload_ext autoreload\n"
     ]
    }
   ],
   "source": [
    "\n",
    "import torch\n",
    "import argparse\n",
    "from pathlib import Path\n",
    "import numpy as np\n",
    "from src.model_utils import build_model\n",
    "import src.datasets as datasets\n",
    "import src.evaluation as evaluation\n",
    "from src.torch_utils import torch2numpy\n",
    "from reevaluate import get_test_dataset\n",
    "from tqdm import tqdm\n",
    "\n",
    "%load_ext autoreload\n",
    "%autoreload 2"
   ]
  },
  {
   "cell_type": "code",
   "execution_count": 275,
   "metadata": {},
   "outputs": [],
   "source": [
    "def get_quantile_forecast(pred, quantile, axis=0):\n",
    "    # shape is [num_samples, num_series, prediction_length]\n",
    "    # return the quantile of the samples for each series\n",
    "    return np.quantile(pred, quantile, axis=axis)\n"
   ]
  },
  {
   "cell_type": "code",
   "execution_count": 2,
   "metadata": {},
   "outputs": [],
   "source": [
    "ckpt_file = \"./Checkpoints/bouncing_ball.pt\"\n",
    "ckpt = torch.load(ckpt_file, map_location=\"cpu\")\n",
    "\n",
    "config = ckpt[\"config\"]\n",
    "model = build_model(config=config)\n",
    "model.load_state_dict(ckpt[\"model\"])\n",
    "\n",
    "test_dataset = get_test_dataset(config)\n",
    "test_loader = torch.utils.data.DataLoader(test_dataset, batch_size=80)\n",
    "extra_args = dict()\n",
    "extra_args = {\"dur_temperature\": 1.0}\n",
    "device = 'cpu'"
   ]
  },
  {
   "cell_type": "code",
   "execution_count": 3,
   "metadata": {},
   "outputs": [],
   "source": [
    "def autoregressive_pred(ckpt_file, batch_size=80):\n",
    "\n",
    "    ckpt = torch.load(ckpt_file, map_location=\"cpu\")\n",
    "\n",
    "    config = ckpt[\"config\"]\n",
    "    model = build_model(config=config)\n",
    "    model.load_state_dict(ckpt[\"model\"])\n",
    "\n",
    "    test_dataset = get_test_dataset(config)\n",
    "    test_loader = torch.utils.data.DataLoader(test_dataset, batch_size=batch_size)\n",
    "\n",
    "    #do predictions autoregressively. \n",
    "    context_length = config['context_length']\n",
    "    prediction_length = config['prediction_length']\n",
    "    ground_truth = []\n",
    "    all_lb = []\n",
    "    all_ub = []\n",
    "    all_mean = []\n",
    "    # calculate coverage and width of prediction intervals\n",
    "    for test_batch, test_label in test_loader:\n",
    "        true = test_batch[:, -prediction_length:]\n",
    "        autoregressive_lb = []\n",
    "        autoregressive_ub = []\n",
    "        autoregressive_mean = []\n",
    "        for t in tqdm(range(prediction_length)):\n",
    "            pred = model.predict(test_batch[:,t:t+context_length], num_samples=100, pred_one_step=True)\n",
    "            pred_y = pred['rec_n_forecast'][:,:,-1]\n",
    "\n",
    "            mean = get_quantile_forecast(pred_y, 0.5)\n",
    "            lb = get_quantile_forecast(pred_y, 0.1)\n",
    "            ub = get_quantile_forecast(pred_y, 0.9) \n",
    "\n",
    "            autoregressive_lb.append(lb)\n",
    "            autoregressive_ub.append(ub)\n",
    "            autoregressive_mean.append(mean)\n",
    "\n",
    "        ground_truth.append(true)\n",
    "        all_lb.append(np.concatenate(autoregressive_lb, 1))\n",
    "        all_ub.append(np.concatenate(autoregressive_ub, 1))\n",
    "        all_mean.append(np.concatenate(autoregressive_mean, 1))\n",
    "    \n",
    "    ground_truth = np.concatenate(ground_truth, 0).squeeze()\n",
    "    all_lb = np.concatenate(all_lb, 0)\n",
    "    all_ub = np.concatenate(all_ub, 0)\n",
    "    all_mean = np.concatenate(all_mean, 0)\n",
    "\n",
    "    return ground_truth, all_mean, all_lb, all_ub\n",
    "\n",
    "def autoregressive_get_truth(ckpt_file):\n",
    "    ckpt = torch.load(ckpt_file, map_location=\"cpu\")\n",
    "\n",
    "    config = ckpt[\"config\"]\n",
    "    model = build_model(config=config)\n",
    "    model.load_state_dict(ckpt[\"model\"])\n",
    "    prediction_length = config['prediction_length']\n",
    "\n",
    "    test_dataset = get_test_dataset(config)\n",
    "    test_loader = torch.utils.data.DataLoader(test_dataset, batch_size=80)\n",
    "    all_truth = []\n",
    "    for test_batch, test_label in test_loader:\n",
    "        true = test_batch[:, -prediction_length:]\n",
    "        all_truth.append(true)\n",
    "    all_truth = np.concatenate(all_truth, 0)\n",
    "    return all_truth"
   ]
  },
  {
   "cell_type": "code",
   "execution_count": 22,
   "metadata": {},
   "outputs": [],
   "source": [
    "ckpt_bb = \"./Checkpoints/bouncing_ball.pt\"\n",
    "ckpt_bbnoisy = \"./Checkpoints/bb_noisy.pt\""
   ]
  },
  {
   "cell_type": "code",
   "execution_count": 23,
   "metadata": {},
   "outputs": [
    {
     "name": "stderr",
     "output_type": "stream",
     "text": [
      "  0%|          | 0/50 [00:00<?, ?it/s]/Users/sophiasun/Desktop/2cool4school/phd/switching/REDSDS/src/torch_utils.py:37: UserWarning: __floordiv__ is deprecated, and its behavior will change in a future version of pytorch. It currently rounds toward 0 (like the 'trunc' function NOT 'floor'). This results in incorrect rounding for negative values. To keep the current behavior, use torch.div(a, b, rounding_mode='trunc'), or for actual floor division, use torch.div(a, b, rounding_mode='floor').\n",
      "  indices = indices // dim\n",
      "100%|██████████| 50/50 [01:57<00:00,  2.35s/it]\n",
      "100%|██████████| 50/50 [01:55<00:00,  2.30s/it]\n",
      "100%|██████████| 50/50 [01:52<00:00,  2.26s/it]\n",
      "100%|██████████| 50/50 [01:56<00:00,  2.33s/it]\n",
      "100%|██████████| 50/50 [01:54<00:00,  2.30s/it]\n",
      "100%|██████████| 50/50 [01:55<00:00,  2.32s/it]\n",
      "100%|██████████| 50/50 [01:58<00:00,  2.37s/it]\n",
      "100%|██████████| 50/50 [01:50<00:00,  2.22s/it]\n",
      "100%|██████████| 50/50 [01:54<00:00,  2.29s/it]\n",
      "100%|██████████| 50/50 [02:10<00:00,  2.60s/it]\n",
      "100%|██████████| 50/50 [02:08<00:00,  2.56s/it]\n",
      "100%|██████████| 50/50 [01:58<00:00,  2.37s/it]\n",
      "100%|██████████| 50/50 [01:09<00:00,  1.40s/it]\n"
     ]
    }
   ],
   "source": [
    "ground_truth, all_mean, all_lb, all_ub = autoregressive_pred(ckpt_bb)\n"
   ]
  },
  {
   "cell_type": "code",
   "execution_count": 29,
   "metadata": {},
   "outputs": [],
   "source": [
    "\n",
    "ground_truth = np.concatenate(ground_truth, 0)\n",
    "all_lb = np.concatenate(all_lb, 0)\n",
    "all_ub = np.concatenate(all_ub, 0)\n",
    "all_mean = np.concatenate(all_mean, 0)\n"
   ]
  },
  {
   "cell_type": "code",
   "execution_count": 48,
   "metadata": {},
   "outputs": [],
   "source": [
    "ground_truth = autoregressive_get_truth(ckpt_bb).squeeze()"
   ]
  },
  {
   "cell_type": "code",
   "execution_count": 49,
   "metadata": {},
   "outputs": [
    {
     "data": {
      "text/plain": [
       "(1000, 50)"
      ]
     },
     "execution_count": 49,
     "metadata": {},
     "output_type": "execute_result"
    }
   ],
   "source": [
    "ground_truth.shape"
   ]
  },
  {
   "cell_type": "code",
   "execution_count": 47,
   "metadata": {},
   "outputs": [
    {
     "data": {
      "text/plain": [
       "(1000, 50)"
      ]
     },
     "execution_count": 47,
     "metadata": {},
     "output_type": "execute_result"
    }
   ],
   "source": [
    "all_lb.shape"
   ]
  },
  {
   "cell_type": "code",
   "execution_count": 52,
   "metadata": {},
   "outputs": [
    {
     "data": {
      "text/plain": [
       "(0.78572, 0.5273508853956397)"
      ]
     },
     "execution_count": 52,
     "metadata": {},
     "output_type": "execute_result"
    }
   ],
   "source": [
    "\n",
    "# coverage\n",
    "coverage = np.mean(np.logical_and(ground_truth >= all_lb, ground_truth <= all_ub))\n",
    "# width\n",
    "width = np.mean(all_ub - all_lb)\n",
    "\n",
    "\n",
    "coverage, width"
   ]
  },
  {
   "cell_type": "code",
   "execution_count": 53,
   "metadata": {},
   "outputs": [],
   "source": [
    "np.savez(\"./results/bouncing_ball_autoregressive.npz\", ground_truth=ground_truth, mean=all_mean, lb=all_lb, ub=all_ub)\n"
   ]
  },
  {
   "cell_type": "markdown",
   "metadata": {},
   "source": [
    "## Noisy"
   ]
  },
  {
   "cell_type": "code",
   "execution_count": 57,
   "metadata": {},
   "outputs": [
    {
     "name": "stderr",
     "output_type": "stream",
     "text": [
      "  0%|          | 0/50 [00:00<?, ?it/s]"
     ]
    },
    {
     "name": "stderr",
     "output_type": "stream",
     "text": [
      "/Users/sophiasun/Desktop/2cool4school/phd/switching/REDSDS/src/torch_utils.py:37: UserWarning: __floordiv__ is deprecated, and its behavior will change in a future version of pytorch. It currently rounds toward 0 (like the 'trunc' function NOT 'floor'). This results in incorrect rounding for negative values. To keep the current behavior, use torch.div(a, b, rounding_mode='trunc'), or for actual floor division, use torch.div(a, b, rounding_mode='floor').\n",
      "  indices = indices // dim\n",
      "100%|██████████| 50/50 [01:54<00:00,  2.28s/it]\n",
      "100%|██████████| 50/50 [01:52<00:00,  2.24s/it]\n",
      "100%|██████████| 50/50 [01:54<00:00,  2.28s/it]\n",
      "100%|██████████| 50/50 [01:50<00:00,  2.21s/it]\n",
      "100%|██████████| 50/50 [01:50<00:00,  2.20s/it]\n",
      "100%|██████████| 50/50 [01:49<00:00,  2.20s/it]\n",
      "100%|██████████| 50/50 [01:53<00:00,  2.27s/it]\n",
      "100%|██████████| 50/50 [01:51<00:00,  2.22s/it]\n",
      "100%|██████████| 50/50 [01:49<00:00,  2.20s/it]\n",
      "100%|██████████| 50/50 [01:49<00:00,  2.20s/it]\n",
      "100%|██████████| 50/50 [01:50<00:00,  2.20s/it]\n",
      "100%|██████████| 50/50 [10:20<00:00, 12.40s/it] \n",
      "100%|██████████| 50/50 [01:06<00:00,  1.33s/it]\n"
     ]
    }
   ],
   "source": [
    "ground_truth, all_mean, all_lb, all_ub = autoregressive_pred(ckpt_bbnoisy)\n",
    "\n",
    "#save ground truth, all_mean, all_lb, all_ub\n",
    "np.savez(\"./results/bouncing_ball_noisy_autoregressive.npz\", ground_truth=ground_truth, mean=all_mean, lb=all_lb, ub=all_ub)\n"
   ]
  },
  {
   "cell_type": "code",
   "execution_count": 58,
   "metadata": {},
   "outputs": [
    {
     "data": {
      "text/plain": [
       "(0.78504, 0.46371949870007767)"
      ]
     },
     "execution_count": 58,
     "metadata": {},
     "output_type": "execute_result"
    }
   ],
   "source": [
    "\n",
    "# coverage\n",
    "coverage = np.mean(np.logical_and(ground_truth >= all_lb, ground_truth <= all_ub))\n",
    "# width\n",
    "width = np.mean(all_ub - all_lb)\n",
    "\n",
    "\n",
    "coverage, width"
   ]
  },
  {
   "cell_type": "markdown",
   "metadata": {},
   "source": [
    "# Electricity"
   ]
  },
  {
   "cell_type": "code",
   "execution_count": 122,
   "metadata": {},
   "outputs": [],
   "source": [
    "dataset = datasets.GTSUnivariateDataset(\"electricity_nips\", batch_size=50, mode=\"test\")\n",
    "test_dataset = dataset.gluonts_dataset"
   ]
  },
  {
   "cell_type": "code",
   "execution_count": 276,
   "metadata": {},
   "outputs": [],
   "source": [
    "ckpt_file = \"Checkpoints/electricity_nips.pt\"\n",
    "try:\n",
    "    ckpt = torch.load(ckpt_file, map_location=\"cpu\")\n",
    "except FileNotFoundError:\n",
    "    print(f\"Can't find {ckpt_file}!\")\n",
    "\n",
    "config = ckpt[\"config\"]\n",
    "device = 'cpu'\n",
    "model = build_model(config=config)\n",
    "model.load_state_dict(ckpt[\"model\"])\n",
    "model = model.to(device)"
   ]
  },
  {
   "cell_type": "code",
   "execution_count": 277,
   "metadata": {},
   "outputs": [],
   "source": [
    "from src.datasets import create_input_transform\n",
    "from gluonts.dataset.loader import InferenceDataLoader\n",
    "from gluonts.torch.batchify import batchify\n",
    "import pandas as pd\n",
    "\n",
    "from gluonts.transform import TransformedDataset\n",
    "from gluonts.transform import AdhocTransform\n",
    "\n",
    "\n",
    "batch_size = 10\n",
    "assert dataset.metadata[\"context_length\"] == model.context_length\n",
    "assert dataset.metadata[\"prediction_length\"] == model.prediction_length\n",
    "prediction_length = dataset.metadata[\"prediction_length\"]\n",
    "context_length = dataset.metadata[\"context_length\"]\n",
    "\n",
    "freq = dataset.freq\n",
    "max_len = 1000\n",
    "\n",
    "def add_ts_dataframe(data_iterator):\n",
    "    for data_entry in data_iterator:\n",
    "        data = data_entry.copy()\n",
    "        index = pd.date_range(\n",
    "            start=data[\"start\"],\n",
    "            freq=freq,\n",
    "            periods=data[\"target\"].shape[-1],\n",
    "        )\n",
    "        data[\"ts\"] = pd.DataFrame(index=index, data=data[\"target\"].transpose())\n",
    "        yield data\n",
    "\n",
    "def test_generator(dataset):\n",
    "    size = 0\n",
    "    for data_entry in add_ts_dataframe(iter(dataset)):\n",
    "        if size < max_len:\n",
    "            yield data_entry[\"ts\"]\n",
    "            size += 1\n",
    "        else:\n",
    "            break\n",
    "\n",
    "def truncate_target(data):\n",
    "    data = data.copy()\n",
    "    target = data[\"target\"]\n",
    "    assert (\n",
    "        target.shape[-1] >= prediction_length\n",
    "    )  # handles multivariate case (target_dim, history_length)\n",
    "    data[\"target\"] = target[..., :-prediction_length]\n",
    "    return data\n",
    "\n",
    "trucated_dataset = TransformedDataset(\n",
    "    test_dataset, transformation=AdhocTransform(truncate_target)\n",
    ")\n",
    "\n",
    "input_transform = create_input_transform(\n",
    "    is_train=False,\n",
    "    prediction_length=prediction_length,\n",
    "    past_length=context_length,\n",
    "    use_feat_static_cat=True,\n",
    "    use_feat_dynamic_real=False,\n",
    "    freq=freq,\n",
    "    time_features=None,\n",
    ")\n",
    "inference_loader = InferenceDataLoader(\n",
    "    dataset=trucated_dataset,\n",
    "    transform=input_transform,\n",
    "    batch_size=batch_size,\n",
    "    stack_fn=batchify,\n",
    "    #num_workers=1,\n",
    ")"
   ]
  },
  {
   "cell_type": "code",
   "execution_count": 367,
   "metadata": {},
   "outputs": [],
   "source": [
    "from gluonts.model.forecast import SampleForecast\n",
    "\n",
    "def prediction_generator(inference_loader, num_samples=100, max_len = 100):\n",
    "    size = 0\n",
    "    for batch in inference_loader:\n",
    "        ys = batch[\"past_target\"]\n",
    "        forecast_starts = batch[\"forecast_start\"]\n",
    "        item_ids = (\n",
    "            batch[\"item_id\"]\n",
    "            if \"item_id\" in batch\n",
    "            else [int(x[0]) for x in batch[\"feat_static_cat\"]]\n",
    "        )\n",
    "        assert ys.shape[-2] == context_length\n",
    "\n",
    "        rec_n_forecast = (\n",
    "            model.predict(\n",
    "                ys.to(device),\n",
    "                ctrl_inputs=dict(\n",
    "                    feat_static_cat=batch[\"feat_static_cat\"].long().to(device),\n",
    "                    past_time_feat=batch[\"past_time_feat\"].to(device),\n",
    "                    future_time_feat=batch[\"future_time_feat\"].to(device),\n",
    "                ),\n",
    "                num_samples=num_samples,\n",
    "            )[\"rec_n_forecast\"]\n",
    "            .data.cpu()\n",
    "            .numpy()\n",
    "        )\n",
    "        assert rec_n_forecast.shape[-2] == prediction_length + context_length, (\n",
    "            f\"Length of rec + forecast {rec_n_forecast.shape[-2]}\"\n",
    "            f\" along time dimension should be \"\n",
    "            f\"context_length {context_length} \"\n",
    "            f\"+ prediction_length {prediction_length}\"\n",
    "        )\n",
    "        # get rid of the truncation\n",
    "        forecasts = rec_n_forecast[..., -prediction_length:, :]\n",
    "        all_preds = rec_n_forecast\n",
    "\n",
    "        forecasts = np.swapaxes(forecasts, 0, 1)\n",
    "        all_preds = np.swapaxes(all_preds, 0, 1)\n",
    "\n",
    "        if forecasts.shape[-1] == 1:\n",
    "            all_preds = all_preds.squeeze(-1)\n",
    "            forecasts = forecasts.squeeze(-1)\n",
    "\n",
    "        for forecast_start, item_id, forecast, everything in zip(\n",
    "            forecast_starts, item_ids, forecasts, all_preds\n",
    "        ):\n",
    "            if size < max_len:\n",
    "                sf = SampleForecast(\n",
    "                    samples = forecast,\n",
    "                    start_date=forecast_start,\n",
    "                    freq=freq,\n",
    "                    item_id=item_id,\n",
    "                )\n",
    "                yield sf, everything\n",
    "                size += 1\n",
    "            else:\n",
    "                break\n",
    "        if size == max_len:\n",
    "            break\n",
    "\n"
   ]
  },
  {
   "cell_type": "code",
   "execution_count": 366,
   "metadata": {},
   "outputs": [
    {
     "name": "stderr",
     "output_type": "stream",
     "text": [
      "Running evaluation:   0%|          | 0/20 [00:00<?, ?it/s]/usr/local/Caskroom/miniforge/base/envs/py3/lib/python3.7/site-packages/gluonts/transform/split.py:36: FutureWarning: Timestamp.freq is deprecated and will be removed in a future version\n",
      "  return _shift_timestamp_helper(ts, ts.freq, offset)\n",
      "/Users/sophiasun/Desktop/2cool4school/phd/switching/REDSDS/src/torch_utils.py:37: UserWarning: __floordiv__ is deprecated, and its behavior will change in a future version of pytorch. It currently rounds toward 0 (like the 'trunc' function NOT 'floor'). This results in incorrect rounding for negative values. To keep the current behavior, use torch.div(a, b, rounding_mode='trunc'), or for actual floor division, use torch.div(a, b, rounding_mode='floor').\n",
      "  indices = indices // dim\n",
      "Running evaluation:   0%|          | 0/20 [00:02<?, ?it/s]"
     ]
    },
    {
     "name": "stdout",
     "output_type": "stream",
     "text": [
      "504\n",
      "<class 'pandas.core.indexes.datetimes.DatetimeIndex'>\n"
     ]
    },
    {
     "name": "stderr",
     "output_type": "stream",
     "text": [
      "\n"
     ]
    },
    {
     "ename": "KeyError",
     "evalue": "\"[Timestamp('2014-09-02 01:00:00'), Timestamp('2014-09-02 02:00:00'), Timestamp('2014-09-02 03:00:00'), Timestamp('2014-09-02 04:00:00'), Timestamp('2014-09-02 05:00:00'), Timestamp('2014-09-02 06:00:00'), Timestamp('2014-09-02 07:00:00'), Timestamp('2014-09-02 08:00:00'), Timestamp('2014-09-02 09:00:00'), Timestamp('2014-09-02 10:00:00'), Timestamp('2014-09-02 11:00:00'), Timestamp('2014-09-02 12:00:00'), Timestamp('2014-09-02 13:00:00'), Timestamp('2014-09-02 14:00:00'), Timestamp('2014-09-02 15:00:00'), Timestamp('2014-09-02 16:00:00'), Timestamp('2014-09-02 17:00:00'), Timestamp('2014-09-02 18:00:00'), Timestamp('2014-09-02 19:00:00'), Timestamp('2014-09-02 20:00:00'), Timestamp('2014-09-02 21:00:00'), Timestamp('2014-09-02 22:00:00'), Timestamp('2014-09-02 23:00:00'), Timestamp('2014-09-03 00:00:00'), Timestamp('2014-09-03 01:00:00'), Timestamp('2014-09-03 02:00:00'), Timestamp('2014-09-03 03:00:00'), Timestamp('2014-09-03 04:00:00'), Timestamp('2014-09-03 05:00:00'), Timestamp('2014-09-03 06:00:00'), Timestamp('2014-09-03 07:00:00'), Timestamp('2014-09-03 08:00:00'), Timestamp('2014-09-03 09:00:00'), Timestamp('2014-09-03 10:00:00'), Timestamp('2014-09-03 11:00:00'), Timestamp('2014-09-03 12:00:00'), Timestamp('2014-09-03 13:00:00'), Timestamp('2014-09-03 14:00:00'), Timestamp('2014-09-03 15:00:00'), Timestamp('2014-09-03 16:00:00'), Timestamp('2014-09-03 17:00:00'), Timestamp('2014-09-03 18:00:00'), Timestamp('2014-09-03 19:00:00'), Timestamp('2014-09-03 20:00:00'), Timestamp('2014-09-03 21:00:00'), Timestamp('2014-09-03 22:00:00'), Timestamp('2014-09-03 23:00:00'), Timestamp('2014-09-04 00:00:00'), Timestamp('2014-09-04 01:00:00'), Timestamp('2014-09-04 02:00:00'), Timestamp('2014-09-04 03:00:00'), Timestamp('2014-09-04 04:00:00'), Timestamp('2014-09-04 05:00:00'), Timestamp('2014-09-04 06:00:00'), Timestamp('2014-09-04 07:00:00'), Timestamp('2014-09-04 08:00:00'), Timestamp('2014-09-04 09:00:00'), Timestamp('2014-09-04 10:00:00'), Timestamp('2014-09-04 11:00:00'), Timestamp('2014-09-04 12:00:00'), Timestamp('2014-09-04 13:00:00'), Timestamp('2014-09-04 14:00:00'), Timestamp('2014-09-04 15:00:00'), Timestamp('2014-09-04 16:00:00'), Timestamp('2014-09-04 17:00:00'), Timestamp('2014-09-04 18:00:00'), Timestamp('2014-09-04 19:00:00'), Timestamp('2014-09-04 20:00:00'), Timestamp('2014-09-04 21:00:00'), Timestamp('2014-09-04 22:00:00'), Timestamp('2014-09-04 23:00:00'), Timestamp('2014-09-05 00:00:00'), Timestamp('2014-09-05 01:00:00'), Timestamp('2014-09-05 02:00:00'), Timestamp('2014-09-05 03:00:00'), Timestamp('2014-09-05 04:00:00'), Timestamp('2014-09-05 05:00:00'), Timestamp('2014-09-05 06:00:00'), Timestamp('2014-09-05 07:00:00'), Timestamp('2014-09-05 08:00:00'), Timestamp('2014-09-05 09:00:00'), Timestamp('2014-09-05 10:00:00'), Timestamp('2014-09-05 11:00:00'), Timestamp('2014-09-05 12:00:00'), Timestamp('2014-09-05 13:00:00'), Timestamp('2014-09-05 14:00:00'), Timestamp('2014-09-05 15:00:00'), Timestamp('2014-09-05 16:00:00'), Timestamp('2014-09-05 17:00:00'), Timestamp('2014-09-05 18:00:00'), Timestamp('2014-09-05 19:00:00'), Timestamp('2014-09-05 20:00:00'), Timestamp('2014-09-05 21:00:00'), Timestamp('2014-09-05 22:00:00'), Timestamp('2014-09-05 23:00:00'), Timestamp('2014-09-06 00:00:00'), Timestamp('2014-09-06 01:00:00'), Timestamp('2014-09-06 02:00:00'), Timestamp('2014-09-06 03:00:00'), Timestamp('2014-09-06 04:00:00'), Timestamp('2014-09-06 05:00:00'), Timestamp('2014-09-06 06:00:00'), Timestamp('2014-09-06 07:00:00'), Timestamp('2014-09-06 08:00:00'), Timestamp('2014-09-06 09:00:00'), Timestamp('2014-09-06 10:00:00'), Timestamp('2014-09-06 11:00:00'), Timestamp('2014-09-06 12:00:00'), Timestamp('2014-09-06 13:00:00'), Timestamp('2014-09-06 14:00:00'), Timestamp('2014-09-06 15:00:00'), Timestamp('2014-09-06 16:00:00'), Timestamp('2014-09-06 17:00:00'), Timestamp('2014-09-06 18:00:00'), Timestamp('2014-09-06 19:00:00'), Timestamp('2014-09-06 20:00:00'), Timestamp('2014-09-06 21:00:00'), Timestamp('2014-09-06 22:00:00'), Timestamp('2014-09-06 23:00:00'), Timestamp('2014-09-07 00:00:00'), Timestamp('2014-09-07 01:00:00'), Timestamp('2014-09-07 02:00:00'), Timestamp('2014-09-07 03:00:00'), Timestamp('2014-09-07 04:00:00'), Timestamp('2014-09-07 05:00:00'), Timestamp('2014-09-07 06:00:00'), Timestamp('2014-09-07 07:00:00'), Timestamp('2014-09-07 08:00:00'), Timestamp('2014-09-07 09:00:00'), Timestamp('2014-09-07 10:00:00'), Timestamp('2014-09-07 11:00:00'), Timestamp('2014-09-07 12:00:00'), Timestamp('2014-09-07 13:00:00'), Timestamp('2014-09-07 14:00:00'), Timestamp('2014-09-07 15:00:00'), Timestamp('2014-09-07 16:00:00'), Timestamp('2014-09-07 17:00:00'), Timestamp('2014-09-07 18:00:00'), Timestamp('2014-09-07 19:00:00'), Timestamp('2014-09-07 20:00:00'), Timestamp('2014-09-07 21:00:00'), Timestamp('2014-09-07 22:00:00'), Timestamp('2014-09-07 23:00:00'), Timestamp('2014-09-08 00:00:00'), Timestamp('2014-09-08 01:00:00'), Timestamp('2014-09-08 02:00:00'), Timestamp('2014-09-08 03:00:00'), Timestamp('2014-09-08 04:00:00'), Timestamp('2014-09-08 05:00:00'), Timestamp('2014-09-08 06:00:00'), Timestamp('2014-09-08 07:00:00'), Timestamp('2014-09-08 08:00:00'), Timestamp('2014-09-08 09:00:00'), Timestamp('2014-09-08 10:00:00'), Timestamp('2014-09-08 11:00:00'), Timestamp('2014-09-08 12:00:00'), Timestamp('2014-09-08 13:00:00'), Timestamp('2014-09-08 14:00:00'), Timestamp('2014-09-08 15:00:00'), Timestamp('2014-09-08 16:00:00'), Timestamp('2014-09-08 17:00:00'), Timestamp('2014-09-08 18:00:00'), Timestamp('2014-09-08 19:00:00'), Timestamp('2014-09-08 20:00:00'), Timestamp('2014-09-08 21:00:00'), Timestamp('2014-09-08 22:00:00'), Timestamp('2014-09-08 23:00:00'), Timestamp('2014-09-09 00:00:00'), Timestamp('2014-09-09 01:00:00'), Timestamp('2014-09-09 02:00:00'), Timestamp('2014-09-09 03:00:00'), Timestamp('2014-09-09 04:00:00'), Timestamp('2014-09-09 05:00:00'), Timestamp('2014-09-09 06:00:00'), Timestamp('2014-09-09 07:00:00'), Timestamp('2014-09-09 08:00:00'), Timestamp('2014-09-09 09:00:00'), Timestamp('2014-09-09 10:00:00'), Timestamp('2014-09-09 11:00:00'), Timestamp('2014-09-09 12:00:00'), Timestamp('2014-09-09 13:00:00'), Timestamp('2014-09-09 14:00:00'), Timestamp('2014-09-09 15:00:00'), Timestamp('2014-09-09 16:00:00'), Timestamp('2014-09-09 17:00:00'), Timestamp('2014-09-09 18:00:00'), Timestamp('2014-09-09 19:00:00'), Timestamp('2014-09-09 20:00:00'), Timestamp('2014-09-09 21:00:00'), Timestamp('2014-09-09 22:00:00'), Timestamp('2014-09-09 23:00:00'), Timestamp('2014-09-10 00:00:00'), Timestamp('2014-09-10 01:00:00'), Timestamp('2014-09-10 02:00:00'), Timestamp('2014-09-10 03:00:00'), Timestamp('2014-09-10 04:00:00'), Timestamp('2014-09-10 05:00:00'), Timestamp('2014-09-10 06:00:00'), Timestamp('2014-09-10 07:00:00'), Timestamp('2014-09-10 08:00:00'), Timestamp('2014-09-10 09:00:00'), Timestamp('2014-09-10 10:00:00'), Timestamp('2014-09-10 11:00:00'), Timestamp('2014-09-10 12:00:00'), Timestamp('2014-09-10 13:00:00'), Timestamp('2014-09-10 14:00:00'), Timestamp('2014-09-10 15:00:00'), Timestamp('2014-09-10 16:00:00'), Timestamp('2014-09-10 17:00:00'), Timestamp('2014-09-10 18:00:00'), Timestamp('2014-09-10 19:00:00'), Timestamp('2014-09-10 20:00:00'), Timestamp('2014-09-10 21:00:00'), Timestamp('2014-09-10 22:00:00'), Timestamp('2014-09-10 23:00:00'), Timestamp('2014-09-11 00:00:00'), Timestamp('2014-09-11 01:00:00'), Timestamp('2014-09-11 02:00:00'), Timestamp('2014-09-11 03:00:00'), Timestamp('2014-09-11 04:00:00'), Timestamp('2014-09-11 05:00:00'), Timestamp('2014-09-11 06:00:00'), Timestamp('2014-09-11 07:00:00'), Timestamp('2014-09-11 08:00:00'), Timestamp('2014-09-11 09:00:00'), Timestamp('2014-09-11 10:00:00'), Timestamp('2014-09-11 11:00:00'), Timestamp('2014-09-11 12:00:00'), Timestamp('2014-09-11 13:00:00'), Timestamp('2014-09-11 14:00:00'), Timestamp('2014-09-11 15:00:00'), Timestamp('2014-09-11 16:00:00'), Timestamp('2014-09-11 17:00:00'), Timestamp('2014-09-11 18:00:00'), Timestamp('2014-09-11 19:00:00'), Timestamp('2014-09-11 20:00:00'), Timestamp('2014-09-11 21:00:00'), Timestamp('2014-09-11 22:00:00'), Timestamp('2014-09-11 23:00:00'), Timestamp('2014-09-12 00:00:00'), Timestamp('2014-09-12 01:00:00'), Timestamp('2014-09-12 02:00:00'), Timestamp('2014-09-12 03:00:00'), Timestamp('2014-09-12 04:00:00'), Timestamp('2014-09-12 05:00:00'), Timestamp('2014-09-12 06:00:00'), Timestamp('2014-09-12 07:00:00'), Timestamp('2014-09-12 08:00:00'), Timestamp('2014-09-12 09:00:00'), Timestamp('2014-09-12 10:00:00'), Timestamp('2014-09-12 11:00:00'), Timestamp('2014-09-12 12:00:00'), Timestamp('2014-09-12 13:00:00'), Timestamp('2014-09-12 14:00:00'), Timestamp('2014-09-12 15:00:00'), Timestamp('2014-09-12 16:00:00'), Timestamp('2014-09-12 17:00:00'), Timestamp('2014-09-12 18:00:00'), Timestamp('2014-09-12 19:00:00'), Timestamp('2014-09-12 20:00:00'), Timestamp('2014-09-12 21:00:00'), Timestamp('2014-09-12 22:00:00'), Timestamp('2014-09-12 23:00:00'), Timestamp('2014-09-13 00:00:00'), Timestamp('2014-09-13 01:00:00'), Timestamp('2014-09-13 02:00:00'), Timestamp('2014-09-13 03:00:00'), Timestamp('2014-09-13 04:00:00'), Timestamp('2014-09-13 05:00:00'), Timestamp('2014-09-13 06:00:00'), Timestamp('2014-09-13 07:00:00'), Timestamp('2014-09-13 08:00:00'), Timestamp('2014-09-13 09:00:00'), Timestamp('2014-09-13 10:00:00'), Timestamp('2014-09-13 11:00:00'), Timestamp('2014-09-13 12:00:00'), Timestamp('2014-09-13 13:00:00'), Timestamp('2014-09-13 14:00:00'), Timestamp('2014-09-13 15:00:00'), Timestamp('2014-09-13 16:00:00'), Timestamp('2014-09-13 17:00:00'), Timestamp('2014-09-13 18:00:00'), Timestamp('2014-09-13 19:00:00'), Timestamp('2014-09-13 20:00:00'), Timestamp('2014-09-13 21:00:00'), Timestamp('2014-09-13 22:00:00'), Timestamp('2014-09-13 23:00:00'), Timestamp('2014-09-14 00:00:00'), Timestamp('2014-09-14 01:00:00'), Timestamp('2014-09-14 02:00:00'), Timestamp('2014-09-14 03:00:00'), Timestamp('2014-09-14 04:00:00'), Timestamp('2014-09-14 05:00:00'), Timestamp('2014-09-14 06:00:00'), Timestamp('2014-09-14 07:00:00'), Timestamp('2014-09-14 08:00:00'), Timestamp('2014-09-14 09:00:00'), Timestamp('2014-09-14 10:00:00'), Timestamp('2014-09-14 11:00:00'), Timestamp('2014-09-14 12:00:00'), Timestamp('2014-09-14 13:00:00'), Timestamp('2014-09-14 14:00:00'), Timestamp('2014-09-14 15:00:00'), Timestamp('2014-09-14 16:00:00'), Timestamp('2014-09-14 17:00:00'), Timestamp('2014-09-14 18:00:00'), Timestamp('2014-09-14 19:00:00'), Timestamp('2014-09-14 20:00:00'), Timestamp('2014-09-14 21:00:00'), Timestamp('2014-09-14 22:00:00'), Timestamp('2014-09-14 23:00:00'), Timestamp('2014-09-15 00:00:00'), Timestamp('2014-09-15 01:00:00'), Timestamp('2014-09-15 02:00:00'), Timestamp('2014-09-15 03:00:00'), Timestamp('2014-09-15 04:00:00'), Timestamp('2014-09-15 05:00:00'), Timestamp('2014-09-15 06:00:00'), Timestamp('2014-09-15 07:00:00'), Timestamp('2014-09-15 08:00:00'), Timestamp('2014-09-15 09:00:00'), Timestamp('2014-09-15 10:00:00'), Timestamp('2014-09-15 11:00:00'), Timestamp('2014-09-15 12:00:00'), Timestamp('2014-09-15 13:00:00'), Timestamp('2014-09-15 14:00:00'), Timestamp('2014-09-15 15:00:00'), Timestamp('2014-09-15 16:00:00'), Timestamp('2014-09-15 17:00:00'), Timestamp('2014-09-15 18:00:00'), Timestamp('2014-09-15 19:00:00'), Timestamp('2014-09-15 20:00:00'), Timestamp('2014-09-15 21:00:00'), Timestamp('2014-09-15 22:00:00'), Timestamp('2014-09-15 23:00:00'), Timestamp('2014-09-16 00:00:00')] not in index\"",
     "output_type": "error",
     "traceback": [
      "\u001b[0;31m---------------------------------------------------------------------------\u001b[0m",
      "\u001b[0;31mKeyError\u001b[0m                                  Traceback (most recent call last)",
      "\u001b[0;32m/var/folders/h2/p2n4nzc90zb6lngs5bgtd6sc0000gn/T/ipykernel_41396/2252035882.py\u001b[0m in \u001b[0;36m<module>\u001b[0;34m\u001b[0m\n\u001b[1;32m     24\u001b[0m         \u001b[0mtgt_index\u001b[0m \u001b[0;34m=\u001b[0m \u001b[0mforecast\u001b[0m\u001b[0;34m.\u001b[0m\u001b[0mindex\u001b[0m\u001b[0;34m[\u001b[0m\u001b[0;34m-\u001b[0m\u001b[0mprediction_length\u001b[0m\u001b[0;34m:\u001b[0m\u001b[0;34m]\u001b[0m\u001b[0;34m\u001b[0m\u001b[0;34m\u001b[0m\u001b[0m\n\u001b[1;32m     25\u001b[0m         target = np.atleast_1d(\n\u001b[0;32m---> 26\u001b[0;31m             \u001b[0mnp\u001b[0m\u001b[0;34m.\u001b[0m\u001b[0msqueeze\u001b[0m\u001b[0;34m(\u001b[0m\u001b[0mts\u001b[0m\u001b[0;34m.\u001b[0m\u001b[0mloc\u001b[0m\u001b[0;34m[\u001b[0m\u001b[0mforecast\u001b[0m\u001b[0;34m.\u001b[0m\u001b[0mindex\u001b[0m\u001b[0;34m]\u001b[0m\u001b[0;34m.\u001b[0m\u001b[0mtranspose\u001b[0m\u001b[0;34m(\u001b[0m\u001b[0;34m)\u001b[0m\u001b[0;34m)\u001b[0m\u001b[0;34m\u001b[0m\u001b[0;34m\u001b[0m\u001b[0m\n\u001b[0m\u001b[1;32m     27\u001b[0m         )\n\u001b[1;32m     28\u001b[0m \u001b[0;34m\u001b[0m\u001b[0m\n",
      "\u001b[0;32m/usr/local/Caskroom/miniforge/base/envs/py3/lib/python3.7/site-packages/pandas/core/indexing.py\u001b[0m in \u001b[0;36m__getitem__\u001b[0;34m(self, key)\u001b[0m\n\u001b[1;32m    929\u001b[0m \u001b[0;34m\u001b[0m\u001b[0m\n\u001b[1;32m    930\u001b[0m             \u001b[0mmaybe_callable\u001b[0m \u001b[0;34m=\u001b[0m \u001b[0mcom\u001b[0m\u001b[0;34m.\u001b[0m\u001b[0mapply_if_callable\u001b[0m\u001b[0;34m(\u001b[0m\u001b[0mkey\u001b[0m\u001b[0;34m,\u001b[0m \u001b[0mself\u001b[0m\u001b[0;34m.\u001b[0m\u001b[0mobj\u001b[0m\u001b[0;34m)\u001b[0m\u001b[0;34m\u001b[0m\u001b[0;34m\u001b[0m\u001b[0m\n\u001b[0;32m--> 931\u001b[0;31m             \u001b[0;32mreturn\u001b[0m \u001b[0mself\u001b[0m\u001b[0;34m.\u001b[0m\u001b[0m_getitem_axis\u001b[0m\u001b[0;34m(\u001b[0m\u001b[0mmaybe_callable\u001b[0m\u001b[0;34m,\u001b[0m \u001b[0maxis\u001b[0m\u001b[0;34m=\u001b[0m\u001b[0maxis\u001b[0m\u001b[0;34m)\u001b[0m\u001b[0;34m\u001b[0m\u001b[0;34m\u001b[0m\u001b[0m\n\u001b[0m\u001b[1;32m    932\u001b[0m \u001b[0;34m\u001b[0m\u001b[0m\n\u001b[1;32m    933\u001b[0m     \u001b[0;32mdef\u001b[0m \u001b[0m_is_scalar_access\u001b[0m\u001b[0;34m(\u001b[0m\u001b[0mself\u001b[0m\u001b[0;34m,\u001b[0m \u001b[0mkey\u001b[0m\u001b[0;34m:\u001b[0m \u001b[0mtuple\u001b[0m\u001b[0;34m)\u001b[0m\u001b[0;34m:\u001b[0m\u001b[0;34m\u001b[0m\u001b[0;34m\u001b[0m\u001b[0m\n",
      "\u001b[0;32m/usr/local/Caskroom/miniforge/base/envs/py3/lib/python3.7/site-packages/pandas/core/indexing.py\u001b[0m in \u001b[0;36m_getitem_axis\u001b[0;34m(self, key, axis)\u001b[0m\n\u001b[1;32m   1151\u001b[0m                     \u001b[0;32mraise\u001b[0m \u001b[0mValueError\u001b[0m\u001b[0;34m(\u001b[0m\u001b[0;34m\"Cannot index with multidimensional key\"\u001b[0m\u001b[0;34m)\u001b[0m\u001b[0;34m\u001b[0m\u001b[0;34m\u001b[0m\u001b[0m\n\u001b[1;32m   1152\u001b[0m \u001b[0;34m\u001b[0m\u001b[0m\n\u001b[0;32m-> 1153\u001b[0;31m                 \u001b[0;32mreturn\u001b[0m \u001b[0mself\u001b[0m\u001b[0;34m.\u001b[0m\u001b[0m_getitem_iterable\u001b[0m\u001b[0;34m(\u001b[0m\u001b[0mkey\u001b[0m\u001b[0;34m,\u001b[0m \u001b[0maxis\u001b[0m\u001b[0;34m=\u001b[0m\u001b[0maxis\u001b[0m\u001b[0;34m)\u001b[0m\u001b[0;34m\u001b[0m\u001b[0;34m\u001b[0m\u001b[0m\n\u001b[0m\u001b[1;32m   1154\u001b[0m \u001b[0;34m\u001b[0m\u001b[0m\n\u001b[1;32m   1155\u001b[0m             \u001b[0;31m# nested tuple slicing\u001b[0m\u001b[0;34m\u001b[0m\u001b[0;34m\u001b[0m\u001b[0;34m\u001b[0m\u001b[0m\n",
      "\u001b[0;32m/usr/local/Caskroom/miniforge/base/envs/py3/lib/python3.7/site-packages/pandas/core/indexing.py\u001b[0m in \u001b[0;36m_getitem_iterable\u001b[0;34m(self, key, axis)\u001b[0m\n\u001b[1;32m   1091\u001b[0m \u001b[0;34m\u001b[0m\u001b[0m\n\u001b[1;32m   1092\u001b[0m         \u001b[0;31m# A collection of keys\u001b[0m\u001b[0;34m\u001b[0m\u001b[0;34m\u001b[0m\u001b[0;34m\u001b[0m\u001b[0m\n\u001b[0;32m-> 1093\u001b[0;31m         \u001b[0mkeyarr\u001b[0m\u001b[0;34m,\u001b[0m \u001b[0mindexer\u001b[0m \u001b[0;34m=\u001b[0m \u001b[0mself\u001b[0m\u001b[0;34m.\u001b[0m\u001b[0m_get_listlike_indexer\u001b[0m\u001b[0;34m(\u001b[0m\u001b[0mkey\u001b[0m\u001b[0;34m,\u001b[0m \u001b[0maxis\u001b[0m\u001b[0;34m)\u001b[0m\u001b[0;34m\u001b[0m\u001b[0;34m\u001b[0m\u001b[0m\n\u001b[0m\u001b[1;32m   1094\u001b[0m         return self.obj._reindex_with_indexers(\n\u001b[1;32m   1095\u001b[0m             \u001b[0;34m{\u001b[0m\u001b[0maxis\u001b[0m\u001b[0;34m:\u001b[0m \u001b[0;34m[\u001b[0m\u001b[0mkeyarr\u001b[0m\u001b[0;34m,\u001b[0m \u001b[0mindexer\u001b[0m\u001b[0;34m]\u001b[0m\u001b[0;34m}\u001b[0m\u001b[0;34m,\u001b[0m \u001b[0mcopy\u001b[0m\u001b[0;34m=\u001b[0m\u001b[0;32mTrue\u001b[0m\u001b[0;34m,\u001b[0m \u001b[0mallow_dups\u001b[0m\u001b[0;34m=\u001b[0m\u001b[0;32mTrue\u001b[0m\u001b[0;34m\u001b[0m\u001b[0;34m\u001b[0m\u001b[0m\n",
      "\u001b[0;32m/usr/local/Caskroom/miniforge/base/envs/py3/lib/python3.7/site-packages/pandas/core/indexing.py\u001b[0m in \u001b[0;36m_get_listlike_indexer\u001b[0;34m(self, key, axis)\u001b[0m\n\u001b[1;32m   1312\u001b[0m             \u001b[0mkeyarr\u001b[0m\u001b[0;34m,\u001b[0m \u001b[0mindexer\u001b[0m\u001b[0;34m,\u001b[0m \u001b[0mnew_indexer\u001b[0m \u001b[0;34m=\u001b[0m \u001b[0max\u001b[0m\u001b[0;34m.\u001b[0m\u001b[0m_reindex_non_unique\u001b[0m\u001b[0;34m(\u001b[0m\u001b[0mkeyarr\u001b[0m\u001b[0;34m)\u001b[0m\u001b[0;34m\u001b[0m\u001b[0;34m\u001b[0m\u001b[0m\n\u001b[1;32m   1313\u001b[0m \u001b[0;34m\u001b[0m\u001b[0m\n\u001b[0;32m-> 1314\u001b[0;31m         \u001b[0mself\u001b[0m\u001b[0;34m.\u001b[0m\u001b[0m_validate_read_indexer\u001b[0m\u001b[0;34m(\u001b[0m\u001b[0mkeyarr\u001b[0m\u001b[0;34m,\u001b[0m \u001b[0mindexer\u001b[0m\u001b[0;34m,\u001b[0m \u001b[0maxis\u001b[0m\u001b[0;34m)\u001b[0m\u001b[0;34m\u001b[0m\u001b[0;34m\u001b[0m\u001b[0m\n\u001b[0m\u001b[1;32m   1315\u001b[0m \u001b[0;34m\u001b[0m\u001b[0m\n\u001b[1;32m   1316\u001b[0m         if needs_i8_conversion(ax.dtype) or isinstance(\n",
      "\u001b[0;32m/usr/local/Caskroom/miniforge/base/envs/py3/lib/python3.7/site-packages/pandas/core/indexing.py\u001b[0m in \u001b[0;36m_validate_read_indexer\u001b[0;34m(self, key, indexer, axis)\u001b[0m\n\u001b[1;32m   1375\u001b[0m \u001b[0;34m\u001b[0m\u001b[0m\n\u001b[1;32m   1376\u001b[0m             \u001b[0mnot_found\u001b[0m \u001b[0;34m=\u001b[0m \u001b[0mlist\u001b[0m\u001b[0;34m(\u001b[0m\u001b[0mensure_index\u001b[0m\u001b[0;34m(\u001b[0m\u001b[0mkey\u001b[0m\u001b[0;34m)\u001b[0m\u001b[0;34m[\u001b[0m\u001b[0mmissing_mask\u001b[0m\u001b[0;34m.\u001b[0m\u001b[0mnonzero\u001b[0m\u001b[0;34m(\u001b[0m\u001b[0;34m)\u001b[0m\u001b[0;34m[\u001b[0m\u001b[0;36m0\u001b[0m\u001b[0;34m]\u001b[0m\u001b[0;34m]\u001b[0m\u001b[0;34m.\u001b[0m\u001b[0munique\u001b[0m\u001b[0;34m(\u001b[0m\u001b[0;34m)\u001b[0m\u001b[0;34m)\u001b[0m\u001b[0;34m\u001b[0m\u001b[0;34m\u001b[0m\u001b[0m\n\u001b[0;32m-> 1377\u001b[0;31m             \u001b[0;32mraise\u001b[0m \u001b[0mKeyError\u001b[0m\u001b[0;34m(\u001b[0m\u001b[0;34mf\"{not_found} not in index\"\u001b[0m\u001b[0;34m)\u001b[0m\u001b[0;34m\u001b[0m\u001b[0;34m\u001b[0m\u001b[0m\n\u001b[0m\u001b[1;32m   1378\u001b[0m \u001b[0;34m\u001b[0m\u001b[0m\n\u001b[1;32m   1379\u001b[0m \u001b[0;34m\u001b[0m\u001b[0m\n",
      "\u001b[0;31mKeyError\u001b[0m: \"[Timestamp('2014-09-02 01:00:00'), Timestamp('2014-09-02 02:00:00'), Timestamp('2014-09-02 03:00:00'), Timestamp('2014-09-02 04:00:00'), Timestamp('2014-09-02 05:00:00'), Timestamp('2014-09-02 06:00:00'), Timestamp('2014-09-02 07:00:00'), Timestamp('2014-09-02 08:00:00'), Timestamp('2014-09-02 09:00:00'), Timestamp('2014-09-02 10:00:00'), Timestamp('2014-09-02 11:00:00'), Timestamp('2014-09-02 12:00:00'), Timestamp('2014-09-02 13:00:00'), Timestamp('2014-09-02 14:00:00'), Timestamp('2014-09-02 15:00:00'), Timestamp('2014-09-02 16:00:00'), Timestamp('2014-09-02 17:00:00'), Timestamp('2014-09-02 18:00:00'), Timestamp('2014-09-02 19:00:00'), Timestamp('2014-09-02 20:00:00'), Timestamp('2014-09-02 21:00:00'), Timestamp('2014-09-02 22:00:00'), Timestamp('2014-09-02 23:00:00'), Timestamp('2014-09-03 00:00:00'), Timestamp('2014-09-03 01:00:00'), Timestamp('2014-09-03 02:00:00'), Timestamp('2014-09-03 03:00:00'), Timestamp('2014-09-03 04:00:00'), Timestamp('2014-09-03 05:00:00'), Timestamp('2014-09-03 06:00:00'), Timestamp('2014-09-03 07:00:00'), Timestamp('2014-09-03 08:00:00'), Timestamp('2014-09-03 09:00:00'), Timestamp('2014-09-03 10:00:00'), Timestamp('2014-09-03 11:00:00'), Timestamp('2014-09-03 12:00:00'), Timestamp('2014-09-03 13:00:00'), Timestamp('2014-09-03 14:00:00'), Timestamp('2014-09-03 15:00:00'), Timestamp('2014-09-03 16:00:00'), Timestamp('2014-09-03 17:00:00'), Timestamp('2014-09-03 18:00:00'), Timestamp('2014-09-03 19:00:00'), Timestamp('2014-09-03 20:00:00'), Timestamp('2014-09-03 21:00:00'), Timestamp('2014-09-03 22:00:00'), Timestamp('2014-09-03 23:00:00'), Timestamp('2014-09-04 00:00:00'), Timestamp('2014-09-04 01:00:00'), Timestamp('2014-09-04 02:00:00'), Timestamp('2014-09-04 03:00:00'), Timestamp('2014-09-04 04:00:00'), Timestamp('2014-09-04 05:00:00'), Timestamp('2014-09-04 06:00:00'), Timestamp('2014-09-04 07:00:00'), Timestamp('2014-09-04 08:00:00'), Timestamp('2014-09-04 09:00:00'), Timestamp('2014-09-04 10:00:00'), Timestamp('2014-09-04 11:00:00'), Timestamp('2014-09-04 12:00:00'), Timestamp('2014-09-04 13:00:00'), Timestamp('2014-09-04 14:00:00'), Timestamp('2014-09-04 15:00:00'), Timestamp('2014-09-04 16:00:00'), Timestamp('2014-09-04 17:00:00'), Timestamp('2014-09-04 18:00:00'), Timestamp('2014-09-04 19:00:00'), Timestamp('2014-09-04 20:00:00'), Timestamp('2014-09-04 21:00:00'), Timestamp('2014-09-04 22:00:00'), Timestamp('2014-09-04 23:00:00'), Timestamp('2014-09-05 00:00:00'), Timestamp('2014-09-05 01:00:00'), Timestamp('2014-09-05 02:00:00'), Timestamp('2014-09-05 03:00:00'), Timestamp('2014-09-05 04:00:00'), Timestamp('2014-09-05 05:00:00'), Timestamp('2014-09-05 06:00:00'), Timestamp('2014-09-05 07:00:00'), Timestamp('2014-09-05 08:00:00'), Timestamp('2014-09-05 09:00:00'), Timestamp('2014-09-05 10:00:00'), Timestamp('2014-09-05 11:00:00'), Timestamp('2014-09-05 12:00:00'), Timestamp('2014-09-05 13:00:00'), Timestamp('2014-09-05 14:00:00'), Timestamp('2014-09-05 15:00:00'), Timestamp('2014-09-05 16:00:00'), Timestamp('2014-09-05 17:00:00'), Timestamp('2014-09-05 18:00:00'), Timestamp('2014-09-05 19:00:00'), Timestamp('2014-09-05 20:00:00'), Timestamp('2014-09-05 21:00:00'), Timestamp('2014-09-05 22:00:00'), Timestamp('2014-09-05 23:00:00'), Timestamp('2014-09-06 00:00:00'), Timestamp('2014-09-06 01:00:00'), Timestamp('2014-09-06 02:00:00'), Timestamp('2014-09-06 03:00:00'), Timestamp('2014-09-06 04:00:00'), Timestamp('2014-09-06 05:00:00'), Timestamp('2014-09-06 06:00:00'), Timestamp('2014-09-06 07:00:00'), Timestamp('2014-09-06 08:00:00'), Timestamp('2014-09-06 09:00:00'), Timestamp('2014-09-06 10:00:00'), Timestamp('2014-09-06 11:00:00'), Timestamp('2014-09-06 12:00:00'), Timestamp('2014-09-06 13:00:00'), Timestamp('2014-09-06 14:00:00'), Timestamp('2014-09-06 15:00:00'), Timestamp('2014-09-06 16:00:00'), Timestamp('2014-09-06 17:00:00'), Timestamp('2014-09-06 18:00:00'), Timestamp('2014-09-06 19:00:00'), Timestamp('2014-09-06 20:00:00'), Timestamp('2014-09-06 21:00:00'), Timestamp('2014-09-06 22:00:00'), Timestamp('2014-09-06 23:00:00'), Timestamp('2014-09-07 00:00:00'), Timestamp('2014-09-07 01:00:00'), Timestamp('2014-09-07 02:00:00'), Timestamp('2014-09-07 03:00:00'), Timestamp('2014-09-07 04:00:00'), Timestamp('2014-09-07 05:00:00'), Timestamp('2014-09-07 06:00:00'), Timestamp('2014-09-07 07:00:00'), Timestamp('2014-09-07 08:00:00'), Timestamp('2014-09-07 09:00:00'), Timestamp('2014-09-07 10:00:00'), Timestamp('2014-09-07 11:00:00'), Timestamp('2014-09-07 12:00:00'), Timestamp('2014-09-07 13:00:00'), Timestamp('2014-09-07 14:00:00'), Timestamp('2014-09-07 15:00:00'), Timestamp('2014-09-07 16:00:00'), Timestamp('2014-09-07 17:00:00'), Timestamp('2014-09-07 18:00:00'), Timestamp('2014-09-07 19:00:00'), Timestamp('2014-09-07 20:00:00'), Timestamp('2014-09-07 21:00:00'), Timestamp('2014-09-07 22:00:00'), Timestamp('2014-09-07 23:00:00'), Timestamp('2014-09-08 00:00:00'), Timestamp('2014-09-08 01:00:00'), Timestamp('2014-09-08 02:00:00'), Timestamp('2014-09-08 03:00:00'), Timestamp('2014-09-08 04:00:00'), Timestamp('2014-09-08 05:00:00'), Timestamp('2014-09-08 06:00:00'), Timestamp('2014-09-08 07:00:00'), Timestamp('2014-09-08 08:00:00'), Timestamp('2014-09-08 09:00:00'), Timestamp('2014-09-08 10:00:00'), Timestamp('2014-09-08 11:00:00'), Timestamp('2014-09-08 12:00:00'), Timestamp('2014-09-08 13:00:00'), Timestamp('2014-09-08 14:00:00'), Timestamp('2014-09-08 15:00:00'), Timestamp('2014-09-08 16:00:00'), Timestamp('2014-09-08 17:00:00'), Timestamp('2014-09-08 18:00:00'), Timestamp('2014-09-08 19:00:00'), Timestamp('2014-09-08 20:00:00'), Timestamp('2014-09-08 21:00:00'), Timestamp('2014-09-08 22:00:00'), Timestamp('2014-09-08 23:00:00'), Timestamp('2014-09-09 00:00:00'), Timestamp('2014-09-09 01:00:00'), Timestamp('2014-09-09 02:00:00'), Timestamp('2014-09-09 03:00:00'), Timestamp('2014-09-09 04:00:00'), Timestamp('2014-09-09 05:00:00'), Timestamp('2014-09-09 06:00:00'), Timestamp('2014-09-09 07:00:00'), Timestamp('2014-09-09 08:00:00'), Timestamp('2014-09-09 09:00:00'), Timestamp('2014-09-09 10:00:00'), Timestamp('2014-09-09 11:00:00'), Timestamp('2014-09-09 12:00:00'), Timestamp('2014-09-09 13:00:00'), Timestamp('2014-09-09 14:00:00'), Timestamp('2014-09-09 15:00:00'), Timestamp('2014-09-09 16:00:00'), Timestamp('2014-09-09 17:00:00'), Timestamp('2014-09-09 18:00:00'), Timestamp('2014-09-09 19:00:00'), Timestamp('2014-09-09 20:00:00'), Timestamp('2014-09-09 21:00:00'), Timestamp('2014-09-09 22:00:00'), Timestamp('2014-09-09 23:00:00'), Timestamp('2014-09-10 00:00:00'), Timestamp('2014-09-10 01:00:00'), Timestamp('2014-09-10 02:00:00'), Timestamp('2014-09-10 03:00:00'), Timestamp('2014-09-10 04:00:00'), Timestamp('2014-09-10 05:00:00'), Timestamp('2014-09-10 06:00:00'), Timestamp('2014-09-10 07:00:00'), Timestamp('2014-09-10 08:00:00'), Timestamp('2014-09-10 09:00:00'), Timestamp('2014-09-10 10:00:00'), Timestamp('2014-09-10 11:00:00'), Timestamp('2014-09-10 12:00:00'), Timestamp('2014-09-10 13:00:00'), Timestamp('2014-09-10 14:00:00'), Timestamp('2014-09-10 15:00:00'), Timestamp('2014-09-10 16:00:00'), Timestamp('2014-09-10 17:00:00'), Timestamp('2014-09-10 18:00:00'), Timestamp('2014-09-10 19:00:00'), Timestamp('2014-09-10 20:00:00'), Timestamp('2014-09-10 21:00:00'), Timestamp('2014-09-10 22:00:00'), Timestamp('2014-09-10 23:00:00'), Timestamp('2014-09-11 00:00:00'), Timestamp('2014-09-11 01:00:00'), Timestamp('2014-09-11 02:00:00'), Timestamp('2014-09-11 03:00:00'), Timestamp('2014-09-11 04:00:00'), Timestamp('2014-09-11 05:00:00'), Timestamp('2014-09-11 06:00:00'), Timestamp('2014-09-11 07:00:00'), Timestamp('2014-09-11 08:00:00'), Timestamp('2014-09-11 09:00:00'), Timestamp('2014-09-11 10:00:00'), Timestamp('2014-09-11 11:00:00'), Timestamp('2014-09-11 12:00:00'), Timestamp('2014-09-11 13:00:00'), Timestamp('2014-09-11 14:00:00'), Timestamp('2014-09-11 15:00:00'), Timestamp('2014-09-11 16:00:00'), Timestamp('2014-09-11 17:00:00'), Timestamp('2014-09-11 18:00:00'), Timestamp('2014-09-11 19:00:00'), Timestamp('2014-09-11 20:00:00'), Timestamp('2014-09-11 21:00:00'), Timestamp('2014-09-11 22:00:00'), Timestamp('2014-09-11 23:00:00'), Timestamp('2014-09-12 00:00:00'), Timestamp('2014-09-12 01:00:00'), Timestamp('2014-09-12 02:00:00'), Timestamp('2014-09-12 03:00:00'), Timestamp('2014-09-12 04:00:00'), Timestamp('2014-09-12 05:00:00'), Timestamp('2014-09-12 06:00:00'), Timestamp('2014-09-12 07:00:00'), Timestamp('2014-09-12 08:00:00'), Timestamp('2014-09-12 09:00:00'), Timestamp('2014-09-12 10:00:00'), Timestamp('2014-09-12 11:00:00'), Timestamp('2014-09-12 12:00:00'), Timestamp('2014-09-12 13:00:00'), Timestamp('2014-09-12 14:00:00'), Timestamp('2014-09-12 15:00:00'), Timestamp('2014-09-12 16:00:00'), Timestamp('2014-09-12 17:00:00'), Timestamp('2014-09-12 18:00:00'), Timestamp('2014-09-12 19:00:00'), Timestamp('2014-09-12 20:00:00'), Timestamp('2014-09-12 21:00:00'), Timestamp('2014-09-12 22:00:00'), Timestamp('2014-09-12 23:00:00'), Timestamp('2014-09-13 00:00:00'), Timestamp('2014-09-13 01:00:00'), Timestamp('2014-09-13 02:00:00'), Timestamp('2014-09-13 03:00:00'), Timestamp('2014-09-13 04:00:00'), Timestamp('2014-09-13 05:00:00'), Timestamp('2014-09-13 06:00:00'), Timestamp('2014-09-13 07:00:00'), Timestamp('2014-09-13 08:00:00'), Timestamp('2014-09-13 09:00:00'), Timestamp('2014-09-13 10:00:00'), Timestamp('2014-09-13 11:00:00'), Timestamp('2014-09-13 12:00:00'), Timestamp('2014-09-13 13:00:00'), Timestamp('2014-09-13 14:00:00'), Timestamp('2014-09-13 15:00:00'), Timestamp('2014-09-13 16:00:00'), Timestamp('2014-09-13 17:00:00'), Timestamp('2014-09-13 18:00:00'), Timestamp('2014-09-13 19:00:00'), Timestamp('2014-09-13 20:00:00'), Timestamp('2014-09-13 21:00:00'), Timestamp('2014-09-13 22:00:00'), Timestamp('2014-09-13 23:00:00'), Timestamp('2014-09-14 00:00:00'), Timestamp('2014-09-14 01:00:00'), Timestamp('2014-09-14 02:00:00'), Timestamp('2014-09-14 03:00:00'), Timestamp('2014-09-14 04:00:00'), Timestamp('2014-09-14 05:00:00'), Timestamp('2014-09-14 06:00:00'), Timestamp('2014-09-14 07:00:00'), Timestamp('2014-09-14 08:00:00'), Timestamp('2014-09-14 09:00:00'), Timestamp('2014-09-14 10:00:00'), Timestamp('2014-09-14 11:00:00'), Timestamp('2014-09-14 12:00:00'), Timestamp('2014-09-14 13:00:00'), Timestamp('2014-09-14 14:00:00'), Timestamp('2014-09-14 15:00:00'), Timestamp('2014-09-14 16:00:00'), Timestamp('2014-09-14 17:00:00'), Timestamp('2014-09-14 18:00:00'), Timestamp('2014-09-14 19:00:00'), Timestamp('2014-09-14 20:00:00'), Timestamp('2014-09-14 21:00:00'), Timestamp('2014-09-14 22:00:00'), Timestamp('2014-09-14 23:00:00'), Timestamp('2014-09-15 00:00:00'), Timestamp('2014-09-15 01:00:00'), Timestamp('2014-09-15 02:00:00'), Timestamp('2014-09-15 03:00:00'), Timestamp('2014-09-15 04:00:00'), Timestamp('2014-09-15 05:00:00'), Timestamp('2014-09-15 06:00:00'), Timestamp('2014-09-15 07:00:00'), Timestamp('2014-09-15 08:00:00'), Timestamp('2014-09-15 09:00:00'), Timestamp('2014-09-15 10:00:00'), Timestamp('2014-09-15 11:00:00'), Timestamp('2014-09-15 12:00:00'), Timestamp('2014-09-15 13:00:00'), Timestamp('2014-09-15 14:00:00'), Timestamp('2014-09-15 15:00:00'), Timestamp('2014-09-15 16:00:00'), Timestamp('2014-09-15 17:00:00'), Timestamp('2014-09-15 18:00:00'), Timestamp('2014-09-15 19:00:00'), Timestamp('2014-09-15 20:00:00'), Timestamp('2014-09-15 21:00:00'), Timestamp('2014-09-15 22:00:00'), Timestamp('2014-09-15 23:00:00'), Timestamp('2014-09-16 00:00:00')] not in index\""
     ]
    }
   ],
   "source": [
    "max_len = 20\n",
    "\n",
    "pred_gen = prediction_generator(inference_loader, max_len=max_len)\n",
    "test_gen = test_generator(test_dataset)\n",
    "\n",
    "ts_iterator = iter(test_gen)\n",
    "fcst_iterator = iter(pred_gen)\n",
    "ground_truth, all_mean, all_lb, all_ub = [], [], [], []\n",
    "prev_preds = []\n",
    "size = 0\n",
    "\n",
    "with tqdm(\n",
    "    zip(ts_iterator, fcst_iterator),\n",
    "    total=max_len,\n",
    "    desc=\"Running evaluation\",\n",
    ") as it, np.errstate(invalid=\"ignore\"): \n",
    "    \n",
    "    for ts, (forecast, everything) in it:\n",
    "        #print(forecast.samples.shape)\n",
    "        rec_n_forecast = forecast.samples[..., -prediction_length:]\n",
    "        print(len(forecast.index))\n",
    "        print(type(forecast.index))\n",
    "        target = np.atleast_1d(\n",
    "            np.squeeze(ts.loc[forecast.index].transpose())\n",
    "        )\n",
    "\n",
    "        mean = get_quantile_forecast(rec_n_forecast, 0.5)#axis=1)\n",
    "        lb = get_quantile_forecast(rec_n_forecast, 0.1)#axis=1)\n",
    "        ub = get_quantile_forecast(rec_n_forecast, 0.9)#axis=1) \n",
    "        prev_mean = get_quantile_forecast(forecast.samples[..., :-prediction_length], 0.5)#, axis=1) \n",
    "\n",
    "\n",
    "        all_lb.append(lb)\n",
    "        all_ub.append(ub)\n",
    "        all_mean.append(mean)\n",
    "        ground_truth.append(target)\n",
    "        prev_preds.append(prev_mean)\n",
    "\n"
   ]
  },
  {
   "cell_type": "code",
   "execution_count": 306,
   "metadata": {},
   "outputs": [],
   "source": [
    "ground_truth = np.array(ground_truth)\n",
    "all_mean = np.array(all_mean)\n",
    "all_lb = np.array(all_lb)\n",
    "all_ub = np.array(all_ub)\n",
    "prev_preds = np.array(prev_preds)"
   ]
  },
  {
   "cell_type": "code",
   "execution_count": 307,
   "metadata": {},
   "outputs": [
    {
     "data": {
      "text/plain": [
       "(10, 336)"
      ]
     },
     "execution_count": 307,
     "metadata": {},
     "output_type": "execute_result"
    }
   ],
   "source": [
    "prev_mean.shape"
   ]
  },
  {
   "cell_type": "code",
   "execution_count": 308,
   "metadata": {},
   "outputs": [
    {
     "data": {
      "text/plain": [
       "(20, 168)"
      ]
     },
     "execution_count": 308,
     "metadata": {},
     "output_type": "execute_result"
    }
   ],
   "source": [
    "all_mean.shape"
   ]
  },
  {
   "cell_type": "code",
   "execution_count": 310,
   "metadata": {},
   "outputs": [
    {
     "data": {
      "text/plain": [
       "(20, 168)"
      ]
     },
     "execution_count": 310,
     "metadata": {},
     "output_type": "execute_result"
    }
   ],
   "source": [
    "all_lb.shape"
   ]
  },
  {
   "cell_type": "code",
   "execution_count": 311,
   "metadata": {},
   "outputs": [
    {
     "data": {
      "text/plain": [
       "(20, 168)"
      ]
     },
     "execution_count": 311,
     "metadata": {},
     "output_type": "execute_result"
    }
   ],
   "source": [
    "ground_truth.shape"
   ]
  },
  {
   "cell_type": "code",
   "execution_count": 214,
   "metadata": {},
   "outputs": [],
   "source": [
    "def Xs(inference_loader,  max_len = 200):\n",
    "    size = 0\n",
    "    xs = []\n",
    "    for batch in inference_loader:\n",
    "        x = batch[\"past_target\"]\n",
    "        xs.append(x)\n",
    "        size += x.shape[0]\n",
    "        if size == max_len:\n",
    "            break\n",
    "    return np.concatenate(xs, 0)"
   ]
  },
  {
   "cell_type": "code",
   "execution_count": 215,
   "metadata": {},
   "outputs": [
    {
     "name": "stderr",
     "output_type": "stream",
     "text": [
      "/usr/local/Caskroom/miniforge/base/envs/py3/lib/python3.7/site-packages/gluonts/transform/split.py:36: FutureWarning: Timestamp.freq is deprecated and will be removed in a future version\n",
      "  return _shift_timestamp_helper(ts, ts.freq, offset)\n"
     ]
    }
   ],
   "source": [
    "input_data = Xs(inference_loader)"
   ]
  },
  {
   "cell_type": "code",
   "execution_count": 199,
   "metadata": {},
   "outputs": [],
   "source": [
    "np.savez(\"./results/electricity_nips_test.npz\", input_data=input_data, ground_truth=ground_truth, all_mean=all_mean, all_lb=all_lb, all_ub=all_ub, prev_preds=prev_preds)"
   ]
  },
  {
   "cell_type": "code",
   "execution_count": 312,
   "metadata": {},
   "outputs": [
    {
     "data": {
      "text/plain": [
       "(20, 168)"
      ]
     },
     "execution_count": 312,
     "metadata": {},
     "output_type": "execute_result"
    }
   ],
   "source": [
    "ground_truth.shape"
   ]
  },
  {
   "cell_type": "code",
   "execution_count": 165,
   "metadata": {},
   "outputs": [
    {
     "data": {
      "text/plain": [
       "55.26011347832468"
      ]
     },
     "execution_count": 165,
     "metadata": {},
     "output_type": "execute_result"
    }
   ],
   "source": [
    "np.mean(np.clip(all_mean - all_lb, 0, 500))"
   ]
  },
  {
   "cell_type": "code",
   "execution_count": 216,
   "metadata": {},
   "outputs": [
    {
     "ename": "ValueError",
     "evalue": "operands could not be broadcast together with shapes (100,10) (100,10,168) ",
     "output_type": "error",
     "traceback": [
      "\u001b[0;31m---------------------------------------------------------------------------\u001b[0m",
      "\u001b[0;31mValueError\u001b[0m                                Traceback (most recent call last)",
      "\u001b[0;32m/var/folders/h2/p2n4nzc90zb6lngs5bgtd6sc0000gn/T/ipykernel_41396/796250315.py\u001b[0m in \u001b[0;36m<module>\u001b[0;34m\u001b[0m\n\u001b[1;32m      1\u001b[0m \u001b[0;31m# coverage\u001b[0m\u001b[0;34m\u001b[0m\u001b[0;34m\u001b[0m\u001b[0;34m\u001b[0m\u001b[0m\n\u001b[0;32m----> 2\u001b[0;31m \u001b[0mcov\u001b[0m \u001b[0;34m=\u001b[0m \u001b[0mnp\u001b[0m\u001b[0;34m.\u001b[0m\u001b[0mlogical_and\u001b[0m\u001b[0;34m(\u001b[0m\u001b[0mground_truth\u001b[0m \u001b[0;34m>=\u001b[0m \u001b[0mall_lb\u001b[0m\u001b[0;34m,\u001b[0m \u001b[0mground_truth\u001b[0m \u001b[0;34m<=\u001b[0m \u001b[0mall_ub\u001b[0m\u001b[0;34m)\u001b[0m\u001b[0;34m\u001b[0m\u001b[0;34m\u001b[0m\u001b[0m\n\u001b[0m\u001b[1;32m      3\u001b[0m \u001b[0mcoverage\u001b[0m \u001b[0;34m=\u001b[0m \u001b[0mnp\u001b[0m\u001b[0;34m.\u001b[0m\u001b[0mmean\u001b[0m\u001b[0;34m(\u001b[0m\u001b[0mcov\u001b[0m\u001b[0;34m)\u001b[0m\u001b[0;34m\u001b[0m\u001b[0;34m\u001b[0m\u001b[0m\n\u001b[1;32m      4\u001b[0m \u001b[0mcov_std\u001b[0m \u001b[0;34m=\u001b[0m \u001b[0mnp\u001b[0m\u001b[0;34m.\u001b[0m\u001b[0mstd\u001b[0m\u001b[0;34m(\u001b[0m\u001b[0mnp\u001b[0m\u001b[0;34m.\u001b[0m\u001b[0mmean\u001b[0m\u001b[0;34m(\u001b[0m\u001b[0mcov\u001b[0m\u001b[0;34m,\u001b[0m \u001b[0maxis\u001b[0m\u001b[0;34m=\u001b[0m\u001b[0;36m1\u001b[0m\u001b[0;34m)\u001b[0m\u001b[0;34m)\u001b[0m\u001b[0;34m\u001b[0m\u001b[0;34m\u001b[0m\u001b[0m\n\u001b[1;32m      5\u001b[0m \u001b[0;31m# width\u001b[0m\u001b[0;34m\u001b[0m\u001b[0;34m\u001b[0m\u001b[0;34m\u001b[0m\u001b[0m\n",
      "\u001b[0;31mValueError\u001b[0m: operands could not be broadcast together with shapes (100,10) (100,10,168) "
     ]
    }
   ],
   "source": [
    "\n",
    "# coverage\n",
    "cov = np.logical_and(ground_truth >= all_lb, ground_truth <= all_ub)\n",
    "coverage = np.mean(cov)\n",
    "cov_std = np.std(np.mean(cov, axis=1))\n",
    "# width\n",
    "widths = np.clip(all_ub - all_lb, 0, 500)\n",
    "width = np.mean(widths)\n",
    "width_std = np.std(np.mean(widths, axis=1))\n",
    "\n"
   ]
  },
  {
   "cell_type": "code",
   "execution_count": 177,
   "metadata": {},
   "outputs": [
    {
     "data": {
      "text/plain": [
       "(0.7608928571428571,\n",
       " 0.15037993973768643,\n",
       " 94.60710715658738,\n",
       " 121.09668894911967)"
      ]
     },
     "execution_count": 177,
     "metadata": {},
     "output_type": "execute_result"
    }
   ],
   "source": [
    "coverage, cov_std, width, width_std"
   ]
  },
  {
   "cell_type": "code",
   "execution_count": null,
   "metadata": {},
   "outputs": [],
   "source": []
  },
  {
   "cell_type": "code",
   "execution_count": null,
   "metadata": {},
   "outputs": [],
   "source": [
    "import numpy as np\n",
    "import matplotlib.pyplot as plt\n",
    "from tqdm.auto import tqdm\n",
    "import seaborn as sns"
   ]
  },
  {
   "cell_type": "code",
   "execution_count": 25,
   "metadata": {},
   "outputs": [
    {
     "data": {
      "text/plain": [
       "(336, 168)"
      ]
     },
     "execution_count": 25,
     "metadata": {},
     "output_type": "execute_result"
    }
   ],
   "source": [
    "model.context_length,model.prediction_length"
   ]
  },
  {
   "cell_type": "code",
   "execution_count": 69,
   "metadata": {},
   "outputs": [],
   "source": [
    "from gluonts.model.forecast import SampleForecast\n",
    "\n",
    "\n",
    "def prediction_generator(inference_loader, num_samples=100, max_len = 100):\n",
    "    size = 0\n",
    "    ground_truth, all_mean, all_lb, all_ub = [], [], [], []\n",
    "    for batch in tqdm(inference_loader):\n",
    "        ys = batch[\"past_target\"]\n",
    "        print(batch.keys())\n",
    "        print(ys.shape)\n",
    "        forecast_starts = batch[\"forecast_start\"]\n",
    "\n",
    "        item_ids = (\n",
    "            batch[\"item_id\"]\n",
    "            if \"item_id\" in batch\n",
    "            else [int(x[0]) for x in batch[\"feat_static_cat\"]]\n",
    "        )\n",
    "        assert ys.shape[-2] == context_length\n",
    "\n",
    "        rec_n_forecast = (\n",
    "            model.predict(\n",
    "                ys.to(device),\n",
    "                ctrl_inputs=dict(\n",
    "                    feat_static_cat=batch[\"feat_static_cat\"].long().to(device),\n",
    "                    past_time_feat=batch[\"past_time_feat\"].to(device),\n",
    "                    future_time_feat=batch[\"future_time_feat\"].to(device),\n",
    "                ),\n",
    "                num_samples=num_samples,\n",
    "            )[\"rec_n_forecast\"]\n",
    "            .data.cpu()\n",
    "            .numpy()\n",
    "        )\n",
    "\n",
    "        mean = get_quantile_forecast(rec_n_forecast, 0.5)\n",
    "        lb = get_quantile_forecast(rec_n_forecast, 0.1)\n",
    "        ub = get_quantile_forecast(rec_n_forecast, 0.9) \n",
    "\n",
    "        all_lb.append(lb)\n",
    "        all_ub.append(ub)\n",
    "        all_mean.append(mean)\n",
    "        ground_truth.append(ys)\n",
    "\n",
    "        # assert rec_n_forecast.shape[-2] == prediction_length + context_length, (\n",
    "        #     f\"Length of rec + forecast {rec_n_forecast.shape[-2]}\"\n",
    "        #     f\" along time dimension should be \"\n",
    "        #     f\"context_length {context_length} \"\n",
    "        #     f\"+ prediction_length {prediction_length}\"\n",
    "        # )\n",
    "        # forecasts = rec_n_forecast[..., -prediction_length:, :]\n",
    "        # forecasts = np.swapaxes(forecasts, 0, 1)\n",
    "        # if forecasts.shape[-1] == 1:\n",
    "        #     forecasts = forecasts.squeeze(-1)\n",
    "\n",
    "        size += 1\n",
    "        if size == max_len:\n",
    "            break\n",
    "    return  ground_truth, all_mean, all_lb, all_ub"
   ]
  },
  {
   "cell_type": "code",
   "execution_count": 70,
   "metadata": {},
   "outputs": [
    {
     "name": "stderr",
     "output_type": "stream",
     "text": [
      "0it [00:00, ?it/s]/usr/local/Caskroom/miniforge/base/envs/py3/lib/python3.7/site-packages/gluonts/transform/split.py:36: FutureWarning: Timestamp.freq is deprecated and will be removed in a future version\n",
      "  return _shift_timestamp_helper(ts, ts.freq, offset)\n"
     ]
    },
    {
     "name": "stdout",
     "output_type": "stream",
     "text": [
      "dict_keys(['start', 'feat_static_cat', 'item_id', 'source', 'is_pad', 'past_time_feat', 'future_time_feat', 'past_seasonal_indicators', 'future_seasonal_indicators', 'past_observed_values', 'future_observed_values', 'past_target', 'forecast_start'])\n",
      "torch.Size([10, 336, 1])\n"
     ]
    },
    {
     "name": "stderr",
     "output_type": "stream",
     "text": [
      "/Users/sophiasun/Desktop/2cool4school/phd/switching/REDSDS/src/torch_utils.py:37: UserWarning: __floordiv__ is deprecated, and its behavior will change in a future version of pytorch. It currently rounds toward 0 (like the 'trunc' function NOT 'floor'). This results in incorrect rounding for negative values. To keep the current behavior, use torch.div(a, b, rounding_mode='trunc'), or for actual floor division, use torch.div(a, b, rounding_mode='floor').\n",
      "  indices = indices // dim\n",
      "0it [00:02, ?it/s]\n"
     ]
    }
   ],
   "source": [
    "ground_truth, all_mean, all_lb, all_ub = prediction_generator(inference_loader, max_len=1)"
   ]
  },
  {
   "cell_type": "code",
   "execution_count": 49,
   "metadata": {},
   "outputs": [
    {
     "data": {
      "text/plain": [
       "torch.Size([10, 0, 1])"
      ]
     },
     "execution_count": 49,
     "metadata": {},
     "output_type": "execute_result"
    }
   ],
   "source": [
    "ground_truth[0].shape"
   ]
  },
  {
   "cell_type": "code",
   "execution_count": 56,
   "metadata": {},
   "outputs": [
    {
     "data": {
      "text/plain": [
       "(10, 504, 1)"
      ]
     },
     "execution_count": 56,
     "metadata": {},
     "output_type": "execute_result"
    }
   ],
   "source": [
    "all_mean[0].shape"
   ]
  },
  {
   "cell_type": "code",
   "execution_count": 32,
   "metadata": {},
   "outputs": [
    {
     "data": {
      "text/plain": [
       "(100, 168)"
      ]
     },
     "execution_count": 32,
     "metadata": {},
     "output_type": "execute_result"
    }
   ],
   "source": [
    "preds[0].shape"
   ]
  },
  {
   "cell_type": "code",
   "execution_count": 14,
   "metadata": {},
   "outputs": [],
   "source": [
    "tests = np.load(\"./data/electricity_nips/test_arrays.npy\", allow_pickle=True)\n"
   ]
  },
  {
   "cell_type": "code",
   "execution_count": 22,
   "metadata": {},
   "outputs": [
    {
     "data": {
      "text/plain": [
       "[<matplotlib.lines.Line2D at 0x7fd8f0566850>]"
      ]
     },
     "execution_count": 22,
     "metadata": {},
     "output_type": "execute_result"
    },
    {
     "data": {
      "image/png": "[encoded data removed]",
      "text/plain": [
       "<Figure size 640x480 with 1 Axes>"
      ]
     },
     "metadata": {},
     "output_type": "display_data"
    }
   ],
   "source": [
    "import matplotlib.pyplot as plt\n",
    "plt.plot(tests[0][:300])"
   ]
  },
  {
   "cell_type": "code",
   "execution_count": null,
   "metadata": {},
   "outputs": [],
   "source": []
  },
  {
   "cell_type": "code",
   "execution_count": null,
   "metadata": {},
   "outputs": [],
   "source": []
  },
  {
   "cell_type": "markdown",
   "metadata": {},
   "source": [
    "## Archive"
   ]
  },
  {
   "cell_type": "code",
   "execution_count": 25,
   "metadata": {},
   "outputs": [],
   "source": [
    "\n",
    "true_tss = np.concatenate(true_tss, 0)\n",
    "recons_tss = np.concatenate(recons_tss, 0)\n",
    "true_segs = np.concatenate(true_segs, 0)\n",
    "pred_segs = np.concatenate(pred_segs, 0)\n",
    "seg_metrics = evaluation.evaluate_segmentation(\n",
    "    true_segs, pred_segs, K=config[\"num_categories\"]\n",
    ")\n",
    "#print(config[\"dataset\"], seg_metrics)\n"
   ]
  },
  {
   "cell_type": "code",
   "execution_count": 26,
   "metadata": {},
   "outputs": [
    {
     "data": {
      "text/plain": [
       "{'nmi_score': 0.765731146550337,\n",
       " 'ari_score': 0.8514450465440498,\n",
       " 'accuracy': 0.961375,\n",
       " 'f1_score': 0.9614082389518032}"
      ]
     },
     "execution_count": 26,
     "metadata": {},
     "output_type": "execute_result"
    }
   ],
   "source": [
    "seg_metrics"
   ]
  },
  {
   "cell_type": "code",
   "execution_count": 30,
   "metadata": {},
   "outputs": [
    {
     "data": {
      "text/plain": [
       "{'nmi_score': 1.0, 'ari_score': 1.0, 'accuracy': 1.0, 'f1_score': 1.0}"
      ]
     },
     "execution_count": 30,
     "metadata": {},
     "output_type": "execute_result"
    }
   ],
   "source": [
    "evaluation.evaluate_segmentation(\n",
    "    true_segs[0], pred_segs[0], K=config[\"num_categories\"]\n",
    ")"
   ]
  },
  {
   "cell_type": "code",
   "execution_count": null,
   "metadata": {},
   "outputs": [],
   "source": [
    "\n",
    "pred_segs = []\n",
    "true_segs = []\n",
    "for test_batch, test_label in tqdm(test_loader):\n",
    "    test_batch = test_batch.to(device)\n",
    "    pred = model.predict(test_batch, num_samples=100)\n",
    "    true = test_batch[:, config['context_length']:]\n",
    "    pred_segs.append(torch2numpy(torch.argmax(pred['z_emp_probs'], dim=-1)))\n",
    "    true_segs.append(torch2numpy(test_label[:, config['context_length']:]))\n"
   ]
  },
  {
   "cell_type": "code",
   "execution_count": 106,
   "metadata": {},
   "outputs": [
    {
     "data": {
      "text/plain": [
       "{'nmi_score': 0.10380844559277072,\n",
       " 'ari_score': 0.140397887557092,\n",
       " 'accuracy': 0.68736,\n",
       " 'f1_score': 0.6873676161666078}"
      ]
     },
     "execution_count": 106,
     "metadata": {},
     "output_type": "execute_result"
    }
   ],
   "source": [
    "seg_error = evaluation.evaluate_segmentation(np.concatenate(true_segs, 0), np.concatenate(pred_segs, 0), K=config[\"num_categories\"])\n",
    "\n",
    "seg_error"
   ]
  },
  {
   "cell_type": "code",
   "execution_count": 84,
   "metadata": {},
   "outputs": [
    {
     "data": {
      "text/plain": [
       "0.08520873"
      ]
     },
     "execution_count": 84,
     "metadata": {},
     "output_type": "execute_result"
    }
   ],
   "source": [
    "np.mean(mses)"
   ]
  },
  {
   "cell_type": "code",
   "execution_count": 97,
   "metadata": {},
   "outputs": [
    {
     "data": {
      "text/plain": [
       "tensor([[0, 0, 0,  ..., 1, 1, 1],\n",
       "        [1, 1, 1,  ..., 1, 1, 1],\n",
       "        [1, 1, 1,  ..., 0, 0, 0],\n",
       "        ...,\n",
       "        [0, 0, 0,  ..., 1, 1, 1],\n",
       "        [0, 0, 0,  ..., 1, 1, 1],\n",
       "        [0, 0, 0,  ..., 1, 1, 1]])"
      ]
     },
     "execution_count": 97,
     "metadata": {},
     "output_type": "execute_result"
    }
   ],
   "source": [
    "pred_segs"
   ]
  },
  {
   "cell_type": "code",
   "execution_count": null,
   "metadata": {},
   "outputs": [],
   "source": []
  },
  {
   "cell_type": "code",
   "execution_count": null,
   "metadata": {},
   "outputs": [],
   "source": []
  }
 ],
 "metadata": {
  "kernelspec": {
   "display_name": "py3",
   "language": "python",
   "name": "python3"
  },
  "language_info": {
   "codemirror_mode": {
    "name": "ipython",
    "version": 3
   },
   "file_extension": ".py",
   "mimetype": "text/x-python",
   "name": "python",
   "nbconvert_exporter": "python",
   "pygments_lexer": "ipython3",
   "version": "3.7.11"
  }
 },
 "nbformat": 4,
 "nbformat_minor": 2
}
